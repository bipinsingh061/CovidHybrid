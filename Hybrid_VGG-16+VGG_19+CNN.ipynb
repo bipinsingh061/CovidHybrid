{
  "cells": [
    {
      "cell_type": "code",
      "execution_count": null,
      "metadata": {
        "id": "JZBVn_1ZlmZA"
      },
      "outputs": [],
      "source": [
        "import numpy as np\n",
        "import pandas as pd\n",
        "import os\n",
        "from random import shuffle\n",
        "import cv2\n",
        "import time\n",
        "import seaborn as sns\n",
        "import matplotlib.pyplot as plt\n",
        "import glob as gb\n",
        "%matplotlib inline\n"
      ]
    },
    {
      "cell_type": "code",
      "execution_count": null,
      "metadata": {
        "id": "4KDu_1x1lmZF"
      },
      "outputs": [],
      "source": [
        "import keras\n",
        "import tensorflow as tf \n",
        "from tensorflow.keras.models import Sequential\n",
        "from tensorflow.keras.layers import BatchNormalization\n",
        "from tensorflow.keras.layers import Conv2D\n",
        "from tensorflow.keras.layers import MaxPooling2D,GlobalMaxPooling2D,AveragePooling2D\n",
        "from tensorflow.keras.layers import Activation\n",
        "from tensorflow.keras.layers import Flatten\n",
        "from tensorflow.keras.layers import Dropout,Concatenate\n",
        "from tensorflow.keras.layers import Dense,Input\n",
        "from tensorflow.keras.utils import to_categorical\n",
        "from tensorflow.keras.callbacks import EarlyStopping, ModelCheckpoint\n",
        "from tensorflow.keras.preprocessing.image import load_img,img_to_array,ImageDataGenerator\n",
        "from keras.optimizers import Adam\n",
        "from keras.models import Model\n",
        "from keras.applications.vgg16 import VGG16\n",
        "from keras.applications.vgg19 import VGG19\n",
        "from keras.regularizers import l2\n",
        "from keras.losses import categorical_crossentropy\n",
        "from imutils import paths\n",
        "from sklearn.model_selection import train_test_split\n",
        "from sklearn.model_selection import KFold "
      ]
    },
    {
      "cell_type": "code",
      "execution_count": null,
      "metadata": {
        "id": "22UnhdAvlmZG"
      },
      "outputs": [],
      "source": [
        "WIDTH=224\n",
        "HEIGHT=224"
      ]
    },
    {
      "cell_type": "code",
      "execution_count": null,
      "metadata": {
        "id": "2ICNUQoilmZH",
        "outputId": "ba07e755-5070-40a9-cd7f-895a11e223b8"
      },
      "outputs": [
        {
          "name": "stdout",
          "output_type": "stream",
          "text": [
            "dataset/train\n",
            "dataset/test\n"
          ]
        }
      ],
      "source": [
        "train_image = \"dataset/train\"\n",
        "test_image = \"dataset/test\"\n",
        "\n",
        "\n",
        "print(train_image)\n",
        "print(test_image)"
      ]
    },
    {
      "cell_type": "code",
      "execution_count": null,
      "metadata": {
        "id": "oY4LfxymlmZI"
      },
      "outputs": [],
      "source": [
        "train_datagen = ImageDataGenerator(rescale = 1./255,\n",
        "                                   zoom_range = 0.2,\n",
        "                                   rotation_range=15,\n",
        "                                   horizontal_flip = True)\n",
        "\n",
        "test_datagen = ImageDataGenerator(rescale = 1./255)\n"
      ]
    },
    {
      "cell_type": "code",
      "execution_count": null,
      "metadata": {
        "id": "s0l0ZDozlmZJ"
      },
      "outputs": [],
      "source": [
        "from keras import backend as K\n",
        "def precision_threshold(threshold = 0.5):\n",
        "    def precision(y_true, y_pred):\n",
        "        threshold_value = threshold\n",
        "        y_pred = K.cast(K.greater(K.clip(y_pred, 0, 1), threshold_value), K.floatx())\n",
        "        true_positives = K.round(K.sum(K.clip(y_true * y_pred, 0, 1)))\n",
        "        predicted_positives = K.sum(y_pred)\n",
        "        precision_ratio = true_positives / (predicted_positives + K.epsilon())\n",
        "        return precision_ratio\n",
        "    return precision\n",
        "def recall_threshold(threshold = 0.5):\n",
        "    def recall(y_true, y_pred):\n",
        "        threshold_value = threshold\n",
        "        y_pred = K.cast(K.greater(K.clip(y_pred, 0, 1), threshold_value), K.floatx())\n",
        "        true_positives = K.round(K.sum(K.clip(y_true * y_pred, 0, 1)))\n",
        "        possible_positives = K.sum(K.clip(y_true, 0, 1))\n",
        "        recall_ratio = true_positives / (possible_positives + K.epsilon())\n",
        "        return recall_ratio\n",
        "    return recall\n",
        "def fbeta_score_threshold(beta = 1, threshold = 0.5):\n",
        "    def fbeta_score(y_true, y_pred):\n",
        "        threshold_value = threshold\n",
        "        beta_value = beta\n",
        "        p = precision_threshold(threshold_value)(y_true, y_pred)\n",
        "        r = recall_threshold(threshold_value)(y_true, y_pred)\n",
        "        bb = beta_value ** 2\n",
        "        fbeta_score = (1 + bb) * (p * r) / (bb * p + r + K.epsilon())\n",
        "        return fbeta_score\n",
        "    return fbeta_score"
      ]
    },
    {
      "cell_type": "code",
      "execution_count": null,
      "metadata": {
        "id": "Ts4Vo-oulmZK",
        "outputId": "3d2e0ec4-1363-47f1-d21b-10b427ee7992"
      },
      "outputs": [
        {
          "name": "stdout",
          "output_type": "stream",
          "text": [
            "Model: \"functional_3\"\n",
            "__________________________________________________________________________________________________\n",
            "Layer (type)                    Output Shape         Param #     Connected to                     \n",
            "==================================================================================================\n",
            "input_6 (InputLayer)            [(None, 224, 224, 3) 0                                            \n",
            "__________________________________________________________________________________________________\n",
            "vgg16 (Functional)              (None, 7, 7, 512)    14714688    input_6[0][0]                    \n",
            "__________________________________________________________________________________________________\n",
            "vgg19 (Functional)              (None, 7, 7, 512)    20024384    input_6[0][0]                    \n",
            "__________________________________________________________________________________________________\n",
            "sequential (Sequential)         (None, 7, 7, 256)    1182736     input_6[0][0]                    \n",
            "__________________________________________________________________________________________________\n",
            "flatten_2 (Flatten)             (None, 25088)        0           vgg16[0][0]                      \n",
            "__________________________________________________________________________________________________\n",
            "flatten_3 (Flatten)             (None, 25088)        0           vgg19[0][0]                      \n",
            "__________________________________________________________________________________________________\n",
            "flatten_4 (Flatten)             (None, 12544)        0           sequential[0][0]                 \n",
            "__________________________________________________________________________________________________\n",
            "concatenate_1 (Concatenate)     (None, 62720)        0           flatten_2[0][0]                  \n",
            "                                                                 flatten_3[0][0]                  \n",
            "                                                                 flatten_4[0][0]                  \n",
            "__________________________________________________________________________________________________\n",
            "dense_3 (Dense)                 (None, 512)          32113152    concatenate_1[0][0]              \n",
            "__________________________________________________________________________________________________\n",
            "dropout_6 (Dropout)             (None, 512)          0           dense_3[0][0]                    \n",
            "__________________________________________________________________________________________________\n",
            "dense_4 (Dense)                 (None, 256)          131328      dropout_6[0][0]                  \n",
            "__________________________________________________________________________________________________\n",
            "dense_5 (Dense)                 (None, 3)            771         dense_4[0][0]                    \n",
            "==================================================================================================\n",
            "Total params: 68,167,059\n",
            "Trainable params: 33,426,003\n",
            "Non-trainable params: 34,741,056\n",
            "__________________________________________________________________________________________________\n"
          ]
        }
      ],
      "source": [
        "#hybrid model\n",
        "IMAGE_SIZE=(224,224,3)\n",
        "#vgg16 model\n",
        "vgg16 = VGG16(input_shape=IMAGE_SIZE, weights='imagenet', include_top=False)\n",
        "for layer in vgg16.layers:\n",
        "    layer._name = layer._name + str('_16')\n",
        "    layer.trainable = False\n",
        "    \n",
        "#vgg19 model\n",
        "vgg19 = VGG19(input_shape=IMAGE_SIZE, weights='imagenet', include_top=False)\n",
        "for layer in vgg19.layers:\n",
        "    layer._name = layer._name + str('_19')\n",
        "    layer.trainable = False\n",
        "    \n",
        "#Proposed CNN model\n",
        "model = Sequential()\n",
        "\n",
        "model.add(Conv2D(16, kernel_size=(3, 3), activation='relu', input_shape=IMAGE_SIZE,padding='same'))\n",
        "model.add(BatchNormalization())\n",
        "model.add(Conv2D(16,kernel_size= (3, 3), activation='relu',padding='same'))\n",
        "model.add(BatchNormalization())\n",
        "model.add(MaxPooling2D(pool_size=(2,2), strides=(2, 2)))\n",
        "model.add(Dropout(rate=0.2))\n",
        "\n",
        "model.add(Conv2D(32, kernel_size=(3, 3), activation='relu',padding='same'))\n",
        "model.add(BatchNormalization())\n",
        "model.add(Conv2D(32,kernel_size= (3, 3), activation='relu',padding='same'))\n",
        "model.add(BatchNormalization())\n",
        "model.add(MaxPooling2D(pool_size=(2,2), strides=(2, 2)))\n",
        "model.add(Dropout(rate=0.2))\n",
        "\n",
        "model.add(Conv2D(64, kernel_size=(3, 3), activation='relu',padding='same'))\n",
        "model.add(BatchNormalization())\n",
        "model.add(Conv2D(64,kernel_size= (3, 3), activation='relu',padding='same'))\n",
        "model.add(BatchNormalization())\n",
        "model.add(MaxPooling2D(pool_size=(2,2), strides=(2, 2)))\n",
        "model.add(Dropout(rate=0.2))\n",
        "\n",
        "model.add(Conv2D(128, kernel_size=(3, 3), activation='relu',padding='same'))\n",
        "model.add(BatchNormalization())\n",
        "model.add(Conv2D(128,kernel_size= (3, 3), activation='relu',padding='same'))\n",
        "model.add(BatchNormalization())\n",
        "model.add(MaxPooling2D(pool_size=(2,2), strides=(2, 2)))\n",
        "model.add(Dropout(rate=0.2))\n",
        "\n",
        "model.add(Conv2D(256, kernel_size=(3, 3), activation='relu',padding='same'))\n",
        "model.add(BatchNormalization())\n",
        "model.add(Conv2D(256,kernel_size= (3, 3), activation='relu',padding='same'))\n",
        "model.add(BatchNormalization())\n",
        "model.add(MaxPooling2D(pool_size=(2,2), strides=(2, 2)))\n",
        "model.add(Dropout(rate=0.2))\n",
        "  \n",
        "\n",
        "inp = Input(IMAGE_SIZE)\n",
        "    \n",
        "vgg16_x = Flatten()(vgg16(inp))\n",
        "vgg19_x = Flatten()(vgg19(inp))\n",
        "cnn_x   = Flatten()(model(inp))\n",
        "\n",
        "x = Concatenate()([vgg16_x, vgg19_x, cnn_x])\n",
        "x = Dense(512, activation=\"relu\")(x)\n",
        "x = Dropout(0.2)(x)\n",
        "x = Dense(256, activation=\"relu\")(x)\n",
        "out = Dense(3, activation='softmax')(x)\n",
        "\n",
        "model = Model(inputs = inp, outputs = out)\n",
        "model.summary()"
      ]
    },
    {
      "cell_type": "code",
      "execution_count": null,
      "metadata": {
        "id": "iOro-X2SlmZM",
        "outputId": "396e044b-4937-4fa0-cec7-96030934dcf6"
      },
      "outputs": [
        {
          "name": "stdout",
          "output_type": "stream",
          "text": [
            "Found 5144 images belonging to 3 classes.\n",
            "Found 1288 images belonging to 3 classes.\n",
            "WARNING:tensorflow:From <ipython-input-9-e9948dd94584>:23: Model.fit_generator (from tensorflow.python.keras.engine.training) is deprecated and will be removed in a future version.\n",
            "Instructions for updating:\n",
            "Please use Model.fit, which supports generators.\n",
            "Epoch 1/25\n",
            "322/322 [==============================] - 1658s 5s/step - loss: 0.6515 - precision: 0.8490 - recall: 0.8428 - fbeta_score: 0.8477 - accuracy: 0.8466 - auc: 0.9445 - val_loss: 0.2031 - val_precision: 0.9292 - val_recall: 0.9252 - val_fbeta_score: 0.9283 - val_accuracy: 0.9270 - val_auc: 0.9870\n",
            "Epoch 2/25\n",
            "322/322 [==============================] - 1633s 5s/step - loss: 0.2477 - precision: 0.9119 - recall: 0.9064 - fbeta_score: 0.9108 - accuracy: 0.9098 - auc: 0.9823 - val_loss: 0.1924 - val_precision: 0.9189 - val_recall: 0.9120 - val_fbeta_score: 0.9174 - val_accuracy: 0.9154 - val_auc: 0.9892\n",
            "Epoch 3/25\n",
            "322/322 [==============================] - 1650s 5s/step - loss: 0.2317 - precision: 0.9183 - recall: 0.9105 - fbeta_score: 0.9166 - accuracy: 0.9152 - auc: 0.9836 - val_loss: 0.2292 - val_precision: 0.9065 - val_recall: 0.9051 - val_fbeta_score: 0.9062 - val_accuracy: 0.9068 - val_auc: 0.9857\n",
            "Epoch 4/25\n",
            "322/322 [==============================] - 8481s 26s/step - loss: 0.2193 - precision: 0.9254 - recall: 0.9125 - fbeta_score: 0.9226 - accuracy: 0.9187 - auc: 0.9852 - val_loss: 0.1472 - val_precision: 0.9466 - val_recall: 0.9460 - val_fbeta_score: 0.9465 - val_accuracy: 0.9457 - val_auc: 0.9934\n",
            "Epoch 5/25\n",
            "322/322 [==============================] - 1783s 6s/step - loss: 0.2114 - precision: 0.9284 - recall: 0.9161 - fbeta_score: 0.9258 - accuracy: 0.9203 - auc: 0.9864 - val_loss: 0.1882 - val_precision: 0.9405 - val_recall: 0.9398 - val_fbeta_score: 0.9404 - val_accuracy: 0.9394 - val_auc: 0.9899\n",
            "Epoch 6/25\n",
            "322/322 [==============================] - 1742s 5s/step - loss: 0.2493 - precision: 0.9216 - recall: 0.8898 - fbeta_score: 0.9145 - accuracy: 0.9065 - auc: 0.9823 - val_loss: 0.1949 - val_precision: 0.9280 - val_recall: 0.9259 - val_fbeta_score: 0.9275 - val_accuracy: 0.9270 - val_auc: 0.9884\n",
            "Epoch 7/25\n",
            "322/322 [==============================] - 1747s 5s/step - loss: 0.1948 - precision: 0.9425 - recall: 0.9125 - fbeta_score: 0.9359 - accuracy: 0.9219 - auc: 0.9890 - val_loss: 0.2593 - val_precision: 0.9104 - val_recall: 0.9051 - val_fbeta_score: 0.9092 - val_accuracy: 0.9092 - val_auc: 0.9810\n",
            "Epoch 00007: early stopping\n",
            "training time: 312.23 minutes\n",
            "81/81 [==============================] - 318s 4s/step - loss: 0.2593 - precision: 0.9104 - recall: 0.9051 - fbeta_score: 0.9092 - accuracy: 0.9092 - auc: 0.9810\n",
            "precision: 91.04%\n",
            "Found 5144 images belonging to 3 classes.\n",
            "Found 1288 images belonging to 3 classes.\n",
            "Epoch 1/25\n",
            "322/322 [==============================] - 1634s 5s/step - loss: 0.2031 - precision: 0.9411 - recall: 0.9088 - fbeta_score: 0.9341 - accuracy: 0.9226 - auc: 0.9876 - val_loss: 0.1520 - val_precision: 0.9437 - val_recall: 0.9437 - val_fbeta_score: 0.9437 - val_accuracy: 0.9433 - val_auc: 0.9930\n",
            "Epoch 2/25\n",
            "322/322 [==============================] - 1627s 5s/step - loss: 0.2360 - precision: 0.9380 - recall: 0.8921 - fbeta_score: 0.9278 - accuracy: 0.9079 - auc: 0.9838 - val_loss: 0.2444 - val_precision: 0.9101 - val_recall: 0.9074 - val_fbeta_score: 0.9096 - val_accuracy: 0.9084 - val_auc: 0.9821\n",
            "Epoch 3/25\n",
            "322/322 [==============================] - 1644s 5s/step - loss: 0.1892 - precision: 0.9463 - recall: 0.9092 - fbeta_score: 0.9382 - accuracy: 0.9248 - auc: 0.9894 - val_loss: 0.1562 - val_precision: 0.9429 - val_recall: 0.9429 - val_fbeta_score: 0.9429 - val_accuracy: 0.9425 - val_auc: 0.9928\n",
            "Epoch 4/25\n",
            "322/322 [==============================] - 1661s 5s/step - loss: 0.1760 - precision: 0.9525 - recall: 0.9249 - fbeta_score: 0.9465 - accuracy: 0.9386 - auc: 0.9907 - val_loss: 0.2637 - val_precision: 0.8974 - val_recall: 0.8927 - val_fbeta_score: 0.8963 - val_accuracy: 0.8967 - val_auc: 0.9808\n",
            "Epoch 00004: early stopping\n",
            "training time: 109.76 minutes\n",
            "81/81 [==============================] - 319s 4s/step - loss: 0.2637 - precision: 0.8974 - recall: 0.8927 - fbeta_score: 0.8963 - accuracy: 0.8967 - auc: 0.9808\n",
            "precision: 89.74%\n",
            "Found 5144 images belonging to 3 classes.\n",
            "Found 1288 images belonging to 3 classes.\n",
            "Epoch 1/25\n",
            "322/322 [==============================] - 1658s 5s/step - loss: 0.1897 - precision: 0.9506 - recall: 0.9121 - fbeta_score: 0.9422 - accuracy: 0.9287 - auc: 0.9892 - val_loss: 0.3985 - val_precision: 0.8804 - val_recall: 0.8735 - val_fbeta_score: 0.8787 - val_accuracy: 0.8812 - val_auc: 0.9693\n",
            "Epoch 2/25\n",
            "322/322 [==============================] - 1638s 5s/step - loss: 0.1772 - precision: 0.9532 - recall: 0.9191 - fbeta_score: 0.9458 - accuracy: 0.9374 - auc: 0.9908 - val_loss: 0.1968 - val_precision: 0.9327 - val_recall: 0.9228 - val_fbeta_score: 0.9304 - val_accuracy: 0.9301 - val_auc: 0.9896\n",
            "Epoch 3/25\n",
            "322/322 [==============================] - 4681s 15s/step - loss: 0.1795 - precision: 0.9481 - recall: 0.9099 - fbeta_score: 0.9398 - accuracy: 0.9308 - auc: 0.9904 - val_loss: 0.1989 - val_precision: 0.9181 - val_recall: 0.9174 - val_fbeta_score: 0.9179 - val_accuracy: 0.9185 - val_auc: 0.9892\n",
            "Epoch 4/25\n",
            "322/322 [==============================] - 1678s 5s/step - loss: 0.1758 - precision: 0.9532 - recall: 0.9191 - fbeta_score: 0.9458 - accuracy: 0.9372 - auc: 0.9908 - val_loss: 0.1254 - val_precision: 0.9594 - val_recall: 0.9537 - val_fbeta_score: 0.9582 - val_accuracy: 0.9581 - val_auc: 0.9957\n",
            "Epoch 5/25\n",
            "322/322 [==============================] - 1646s 5s/step - loss: 0.1611 - precision: 0.9522 - recall: 0.9295 - fbeta_score: 0.9473 - accuracy: 0.9421 - auc: 0.9921 - val_loss: 0.2933 - val_precision: 0.9114 - val_recall: 0.9066 - val_fbeta_score: 0.9104 - val_accuracy: 0.9099 - val_auc: 0.9722\n",
            "Epoch 6/25\n",
            "322/322 [==============================] - 1706s 5s/step - loss: 0.1649 - precision: 0.9455 - recall: 0.9350 - fbeta_score: 0.9432 - accuracy: 0.9407 - auc: 0.9913 - val_loss: 0.2058 - val_precision: 0.9242 - val_recall: 0.9228 - val_fbeta_score: 0.9239 - val_accuracy: 0.9239 - val_auc: 0.9863\n",
            "Epoch 7/25\n",
            "322/322 [==============================] - 1670s 5s/step - loss: 0.1585 - precision: 0.9467 - recall: 0.9375 - fbeta_score: 0.9447 - accuracy: 0.9427 - auc: 0.9923 - val_loss: 0.1892 - val_precision: 0.9327 - val_recall: 0.9298 - val_fbeta_score: 0.9320 - val_accuracy: 0.9317 - val_auc: 0.9898\n",
            "Epoch 00007: early stopping\n",
            "training time: 245.20 minutes\n",
            "81/81 [==============================] - 322s 4s/step - loss: 0.1892 - precision: 0.9327 - recall: 0.9298 - fbeta_score: 0.9320 - accuracy: 0.9317 - auc: 0.9898\n",
            "precision: 93.27%\n",
            "Found 5144 images belonging to 3 classes.\n",
            "Found 1288 images belonging to 3 classes.\n",
            "Epoch 1/25\n",
            "322/322 [==============================] - 1613s 5s/step - loss: 0.1641 - precision: 0.9421 - recall: 0.9315 - fbeta_score: 0.9398 - accuracy: 0.9353 - auc: 0.9923 - val_loss: 0.2616 - val_precision: 0.8978 - val_recall: 0.8958 - val_fbeta_score: 0.8974 - val_accuracy: 0.8975 - val_auc: 0.9821\n",
            "Epoch 2/25\n",
            "322/322 [==============================] - 1610s 5s/step - loss: 0.1539 - precision: 0.9447 - recall: 0.9367 - fbeta_score: 0.9430 - accuracy: 0.9401 - auc: 0.9928 - val_loss: 0.2091 - val_precision: 0.9190 - val_recall: 0.9182 - val_fbeta_score: 0.9188 - val_accuracy: 0.9185 - val_auc: 0.9871\n",
            "Epoch 3/25\n",
            "322/322 [==============================] - 1617s 5s/step - loss: 0.1518 - precision: 0.9456 - recall: 0.9383 - fbeta_score: 0.9440 - accuracy: 0.9403 - auc: 0.9932 - val_loss: 0.3010 - val_precision: 0.8904 - val_recall: 0.8897 - val_fbeta_score: 0.8903 - val_accuracy: 0.8905 - val_auc: 0.9777\n",
            "Epoch 4/25\n",
            "322/322 [==============================] - 1611s 5s/step - loss: 0.1560 - precision: 0.9468 - recall: 0.9387 - fbeta_score: 0.9451 - accuracy: 0.9417 - auc: 0.9926 - val_loss: 0.2974 - val_precision: 0.9073 - val_recall: 0.9051 - val_fbeta_score: 0.9068 - val_accuracy: 0.9068 - val_auc: 0.9758\n",
            "Epoch 5/25\n",
            "322/322 [==============================] - 1615s 5s/step - loss: 0.1462 - precision: 0.9504 - recall: 0.9445 - fbeta_score: 0.9492 - accuracy: 0.9465 - auc: 0.9934 - val_loss: 0.1472 - val_precision: 0.9414 - val_recall: 0.9414 - val_fbeta_score: 0.9414 - val_accuracy: 0.9410 - val_auc: 0.9934\n",
            "Epoch 6/25\n",
            "322/322 [==============================] - 1602s 5s/step - loss: 0.1497 - precision: 0.9483 - recall: 0.9427 - fbeta_score: 0.9471 - accuracy: 0.9446 - auc: 0.9933 - val_loss: 0.2455 - val_precision: 0.9144 - val_recall: 0.9120 - val_fbeta_score: 0.9138 - val_accuracy: 0.9130 - val_auc: 0.9821\n",
            "Epoch 7/25\n",
            "322/322 [==============================] - 1603s 5s/step - loss: 0.1439 - precision: 0.9508 - recall: 0.9460 - fbeta_score: 0.9498 - accuracy: 0.9475 - auc: 0.9936 - val_loss: 0.1853 - val_precision: 0.9256 - val_recall: 0.9221 - val_fbeta_score: 0.9249 - val_accuracy: 0.9255 - val_auc: 0.9899\n",
            "Epoch 8/25\n",
            "322/322 [==============================] - 1602s 5s/step - loss: 0.1454 - precision: 0.9464 - recall: 0.9392 - fbeta_score: 0.9449 - accuracy: 0.9417 - auc: 0.9938 - val_loss: 0.2063 - val_precision: 0.9216 - val_recall: 0.9097 - val_fbeta_score: 0.9191 - val_accuracy: 0.9193 - val_auc: 0.9873\n",
            "Epoch 00008: early stopping\n",
            "training time: 215.23 minutes\n",
            "81/81 [==============================] - 309s 4s/step - loss: 0.2063 - precision: 0.9216 - recall: 0.9097 - fbeta_score: 0.9191 - accuracy: 0.9193 - auc: 0.9873\n",
            "precision: 92.16%\n",
            "Found 5144 images belonging to 3 classes.\n",
            "Found 1288 images belonging to 3 classes.\n",
            "Epoch 1/25\n",
            "322/322 [==============================] - 1605s 5s/step - loss: 0.1506 - precision: 0.9488 - recall: 0.9427 - fbeta_score: 0.9475 - accuracy: 0.9452 - auc: 0.9932 - val_loss: 0.2063 - val_precision: 0.9288 - val_recall: 0.9275 - val_fbeta_score: 0.9285 - val_accuracy: 0.9286 - val_auc: 0.9882\n",
            "Epoch 2/25\n",
            "322/322 [==============================] - 1602s 5s/step - loss: 0.1469 - precision: 0.9530 - recall: 0.9460 - fbeta_score: 0.9516 - accuracy: 0.9491 - auc: 0.9933 - val_loss: 0.2756 - val_precision: 0.9120 - val_recall: 0.9120 - val_fbeta_score: 0.9120 - val_accuracy: 0.9123 - val_auc: 0.9796\n",
            "Epoch 3/25\n",
            "322/322 [==============================] - 1601s 5s/step - loss: 0.1355 - precision: 0.9548 - recall: 0.9491 - fbeta_score: 0.9536 - accuracy: 0.9518 - auc: 0.9942 - val_loss: 0.1821 - val_precision: 0.9350 - val_recall: 0.9336 - val_fbeta_score: 0.9347 - val_accuracy: 0.9348 - val_auc: 0.9886\n",
            "Epoch 4/25\n",
            "322/322 [==============================] - 1608s 5s/step - loss: 0.1493 - precision: 0.9497 - recall: 0.9416 - fbeta_score: 0.9480 - accuracy: 0.9448 - auc: 0.9927 - val_loss: 0.2686 - val_precision: 0.8865 - val_recall: 0.8850 - val_fbeta_score: 0.8862 - val_accuracy: 0.8866 - val_auc: 0.9808\n",
            "Epoch 5/25\n",
            "322/322 [==============================] - 1589s 5s/step - loss: 0.1421 - precision: 0.9509 - recall: 0.9424 - fbeta_score: 0.9491 - accuracy: 0.9469 - auc: 0.9939 - val_loss: 0.1812 - val_precision: 0.9313 - val_recall: 0.9306 - val_fbeta_score: 0.9311 - val_accuracy: 0.9301 - val_auc: 0.9910\n",
            "Epoch 6/25\n",
            "322/322 [==============================] - 1593s 5s/step - loss: 0.1378 - precision: 0.9526 - recall: 0.9482 - fbeta_score: 0.9517 - accuracy: 0.9504 - auc: 0.9939 - val_loss: 0.1868 - val_precision: 0.9263 - val_recall: 0.9228 - val_fbeta_score: 0.9255 - val_accuracy: 0.9262 - val_auc: 0.9904\n",
            "Epoch 7/25\n",
            "322/322 [==============================] - 1586s 5s/step - loss: 0.1346 - precision: 0.9556 - recall: 0.9509 - fbeta_score: 0.9546 - accuracy: 0.9520 - auc: 0.9939 - val_loss: 0.2929 - val_precision: 0.8978 - val_recall: 0.8966 - val_fbeta_score: 0.8976 - val_accuracy: 0.8975 - val_auc: 0.9828\n",
            "Epoch 8/25\n",
            "322/322 [==============================] - 1592s 5s/step - loss: 0.1277 - precision: 0.9561 - recall: 0.9507 - fbeta_score: 0.9550 - accuracy: 0.9528 - auc: 0.9947 - val_loss: 0.1770 - val_precision: 0.9355 - val_recall: 0.9321 - val_fbeta_score: 0.9348 - val_accuracy: 0.9332 - val_auc: 0.9894\n",
            "Epoch 9/25\n",
            "322/322 [==============================] - 1591s 5s/step - loss: 0.1247 - precision: 0.9581 - recall: 0.9538 - fbeta_score: 0.9572 - accuracy: 0.9557 - auc: 0.9955 - val_loss: 0.1359 - val_precision: 0.9428 - val_recall: 0.9414 - val_fbeta_score: 0.9425 - val_accuracy: 0.9425 - val_auc: 0.9945\n",
            "Epoch 10/25\n",
            "322/322 [==============================] - 1586s 5s/step - loss: 0.1396 - precision: 0.9504 - recall: 0.9437 - fbeta_score: 0.9490 - accuracy: 0.9467 - auc: 0.9940 - val_loss: 0.1850 - val_precision: 0.9336 - val_recall: 0.9329 - val_fbeta_score: 0.9334 - val_accuracy: 0.9340 - val_auc: 0.9884\n",
            "Epoch 11/25\n",
            "322/322 [==============================] - 1587s 5s/step - loss: 0.1236 - precision: 0.9599 - recall: 0.9544 - fbeta_score: 0.9587 - accuracy: 0.9572 - auc: 0.9952 - val_loss: 0.1681 - val_precision: 0.9405 - val_recall: 0.9375 - val_fbeta_score: 0.9398 - val_accuracy: 0.9394 - val_auc: 0.9907\n",
            "Epoch 12/25\n",
            "322/322 [==============================] - 1592s 5s/step - loss: 0.1239 - precision: 0.9593 - recall: 0.9540 - fbeta_score: 0.9582 - accuracy: 0.9561 - auc: 0.9945 - val_loss: 0.2318 - val_precision: 0.9150 - val_recall: 0.9113 - val_fbeta_score: 0.9141 - val_accuracy: 0.9123 - val_auc: 0.9840\n",
            "Epoch 00012: early stopping\n",
            "training time: 319.76 minutes\n",
            "81/81 [==============================] - 308s 4s/step - loss: 0.2318 - precision: 0.9150 - recall: 0.9113 - fbeta_score: 0.9141 - accuracy: 0.9123 - auc: 0.9840\n",
            "precision: 91.50%\n",
            "91.54% (+/- 1.17%)\n"
          ]
        }
      ],
      "source": [
        "kfold = KFold(n_splits=5, shuffle=True, random_state=42)\n",
        "cvscores = []\n",
        "for train, test in kfold.split(train_image):\n",
        "    opt=Adam(learning_rate=0.001)\n",
        "    model.compile(optimizer=opt,loss='categorical_crossentropy',metrics=[precision_threshold(threshold = 0.5), \n",
        "                       recall_threshold(threshold = 0.5), \n",
        "                       fbeta_score_threshold(beta=0.5, threshold = 0.5),\n",
        "                      'accuracy','AUC',])\n",
        "    \n",
        "    train_generator = train_datagen.flow_from_directory(train_image,\n",
        "                                                 target_size = (224,224),\n",
        "                                                 batch_size = 16,\n",
        "                                                 class_mode = 'categorical',\n",
        "                                                 shuffle=True)\n",
        "\n",
        "    test_generator = test_datagen.flow_from_directory(test_image,\n",
        "                                            target_size = (224,224),\n",
        "                                            batch_size = 16,\n",
        "                                            class_mode = 'categorical',\n",
        "                                            shuffle = False)\n",
        "    earlystop = EarlyStopping(monitor='val_loss', min_delta=0, patience=3, verbose=1, mode='auto')          \n",
        "    start=time.time()\n",
        "    history = model.fit_generator(train_generator,\n",
        "                              validation_data=test_generator,\n",
        "                              epochs=25,callbacks=[earlystop]) \n",
        "    print(\"training time: %.2f minutes\"%((time.time()-start)/60))\n",
        "    \n",
        "    scores = model.evaluate(test_generator)\n",
        "    print(\"%s: %.2f%%\" % (model.metrics_names[1], scores[1]*100))\n",
        "    cvscores.append(scores[1] * 100)\n",
        "print(\"%.2f%% (+/- %.2f%%)\" % (np.mean(cvscores), np.std(cvscores)))"
      ]
    },
    {
      "cell_type": "code",
      "execution_count": null,
      "metadata": {
        "id": "0s_y68mFlmZN",
        "outputId": "0a19f881-f1d6-4815-b6c4-b449bdd749bc"
      },
      "outputs": [
        {
          "name": "stdout",
          "output_type": "stream",
          "text": [
            "WARNING:tensorflow:From <ipython-input-10-31b01bb454ba>:2: Model.predict_generator (from tensorflow.python.keras.engine.training) is deprecated and will be removed in a future version.\n",
            "Instructions for updating:\n",
            "Please use Model.predict, which supports generators.\n"
          ]
        },
        {
          "data": {
            "text/plain": [
              "0.1175"
            ]
          },
          "execution_count": 10,
          "metadata": {},
          "output_type": "execute_result"
        }
      ],
      "source": [
        "test_generator.reset() #Necessary to force it to start from beginning\n",
        "Y_pred = model.predict_generator(test_generator)\n",
        "y_pred = np.argmax(Y_pred, axis=-1)\n",
        "sum(y_pred==test_generator.classes)/10000\n"
      ]
    },
    {
      "cell_type": "code",
      "execution_count": null,
      "metadata": {
        "id": "E0eKaQGClmZO",
        "outputId": "148ac9d5-8521-4abd-ccd9-dd61e1b5d517"
      },
      "outputs": [
        {
          "data": {
            "text/plain": [
              "array([[103,  10,   3],\n",
              "       [  0, 314,   3],\n",
              "       [  0,  97, 758]], dtype=int64)"
            ]
          },
          "execution_count": 11,
          "metadata": {},
          "output_type": "execute_result"
        }
      ],
      "source": [
        "from sklearn.metrics import confusion_matrix\n",
        "confusion_matrix(test_generator.classes,y_pred)"
      ]
    },
    {
      "cell_type": "code",
      "execution_count": null,
      "metadata": {
        "id": "vfpiyhqmlmZP",
        "outputId": "41eaabf0-38e2-46ba-cb07-3affdc89e367"
      },
      "outputs": [
        {
          "data": {
            "image/png": "[encoded data removed]",
            "text/plain": [
              "<Figure size 432x288 with 1 Axes>"
            ]
          },
          "metadata": {
            "needs_background": "light"
          },
          "output_type": "display_data"
        }
      ],
      "source": [
        "from sklearn.metrics import roc_curve, auc\n",
        "\n",
        "fpr = {}\n",
        "tpr = {}\n",
        "thresh ={}\n",
        "\n",
        "n_class = 3\n",
        "\n",
        "for i in range(n_class):    \n",
        "    fpr[i], tpr[i], thresh[i] = roc_curve(test_generator.classes, Y_pred[:,i], pos_label=i)\n",
        "       \n",
        "plt.plot(fpr[0], tpr[0], linestyle='--',color='orange', label='Class 0 vs Rest')\n",
        "plt.plot(fpr[1], tpr[1], linestyle='--',color='red', label='Class 1 vs Rest')\n",
        "plt.plot(fpr[2], tpr[2], linestyle='--',color='blue', label='Class 2 vs Rest')\n",
        "plt.title('Multiclass ROC curve')\n",
        "plt.xlabel('False Positive Rate')\n",
        "plt.ylabel('True Positive rate')\n",
        "plt.legend(loc='best')\n",
        "plt.savefig('Multiclass ROC',dpi=300);    \n"
      ]
    },
    {
      "cell_type": "code",
      "execution_count": null,
      "metadata": {
        "id": "BF0VtxdFlmZQ"
      },
      "outputs": [],
      "source": [
        ""
      ]
    }
  ],
  "metadata": {
    "kernelspec": {
      "display_name": "Python 3",
      "language": "python",
      "name": "python3"
    },
    "language_info": {
      "codemirror_mode": {
        "name": "ipython",
        "version": 3
      },
      "file_extension": ".py",
      "mimetype": "text/x-python",
      "name": "python",
      "nbconvert_exporter": "python",
      "pygments_lexer": "ipython3",
      "version": "3.8.3"
    },
    "colab": {
      "name": "Hybrid (5).ipynb",
      "provenance": []
    }
  },
  "nbformat": 4,
  "nbformat_minor": 0
}