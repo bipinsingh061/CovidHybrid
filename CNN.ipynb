{
  "cells": [
    {
      "cell_type": "code",
      "execution_count": null,
      "metadata": {
        "id": "H5ibCJ0xtilr"
      },
      "outputs": [],
      "source": [
        "import numpy as np\n",
        "import pandas as pd\n",
        "import os\n",
        "from random import shuffle\n",
        "import cv2\n",
        "import time\n",
        "import seaborn as sns\n",
        "import matplotlib.pyplot as plt\n",
        "import glob as gb\n",
        "%matplotlib inline\n"
      ]
    },
    {
      "cell_type": "code",
      "execution_count": null,
      "metadata": {
        "id": "ER87jQ4qtilw"
      },
      "outputs": [],
      "source": [
        "import keras\n",
        "import tensorflow as tf \n",
        "from tensorflow.keras.models import Sequential\n",
        "from tensorflow.keras.layers import BatchNormalization\n",
        "from tensorflow.keras.layers import Conv2D\n",
        "from tensorflow.keras.layers import MaxPooling2D,GlobalMaxPooling2D,AveragePooling2D\n",
        "from tensorflow.keras.layers import Activation\n",
        "from tensorflow.keras.layers import Flatten\n",
        "from tensorflow.keras.layers import Dropout\n",
        "from tensorflow.keras.layers import Dense,Input\n",
        "from tensorflow.keras.utils import to_categorical\n",
        "from tensorflow.keras.preprocessing.image import load_img,img_to_array,ImageDataGenerator\n",
        "from tensorflow.keras.optimizers import Adam\n",
        "from keras.models import Model\n",
        "from keras.regularizers import l2\n",
        "from keras.losses import categorical_crossentropy\n",
        "from imutils import paths\n",
        "from sklearn.model_selection import train_test_split\n",
        "from sklearn.model_selection import KFold \n",
        "from tensorflow.keras.callbacks import EarlyStopping, ModelCheckpoint"
      ]
    },
    {
      "cell_type": "code",
      "execution_count": null,
      "metadata": {
        "id": "D5hb1Upjtilx"
      },
      "outputs": [],
      "source": [
        "WIDTH=224\n",
        "HEIGHT=224"
      ]
    },
    {
      "cell_type": "code",
      "execution_count": null,
      "metadata": {
        "id": "rPoVF4g7tilz",
        "outputId": "8b1db930-d586-4bcc-ebb4-c5e0648479a9"
      },
      "outputs": [
        {
          "name": "stdout",
          "output_type": "stream",
          "text": [
            "drive/MyDrive/chest_xray/train\n",
            "drive/MyDrive/chest_xray/test\n"
          ]
        }
      ],
      "source": [
        "train_image = \"drive/MyDrive/chest_xray/train\"\n",
        "test_image = \"drive/MyDrive/chest_xray/train\"\n",
        "\n",
        "\n",
        "print(train_image)\n",
        "print(test_image)"
      ]
    },
    {
      "cell_type": "code",
      "execution_count": null,
      "metadata": {
        "id": "ddq1T9vMtil0"
      },
      "outputs": [],
      "source": [
        "train_datagen = ImageDataGenerator(rescale = 1./255,\n",
        "                                   zoom_range = 0.2,\n",
        "                                   rotation_range=15,\n",
        "                                   horizontal_flip = True)\n",
        "\n",
        "test_datagen = ImageDataGenerator(rescale = 1./255)\n"
      ]
    },
    {
      "cell_type": "code",
      "execution_count": null,
      "metadata": {
        "id": "YN3Pnq_ttil1",
        "outputId": "0aa400ae-2bdc-4845-a5c5-a293a322ef65"
      },
      "outputs": [
        {
          "name": "stdout",
          "output_type": "stream",
          "text": [
            "Model: \"sequential\"\n",
            "_________________________________________________________________\n",
            "Layer (type)                 Output Shape              Param #   \n",
            "=================================================================\n",
            "conv2d (Conv2D)              (None, 224, 224, 16)      448       \n",
            "_________________________________________________________________\n",
            "batch_normalization (BatchNo (None, 224, 224, 16)      64        \n",
            "_________________________________________________________________\n",
            "conv2d_1 (Conv2D)            (None, 224, 224, 16)      2320      \n",
            "_________________________________________________________________\n",
            "batch_normalization_1 (Batch (None, 224, 224, 16)      64        \n",
            "_________________________________________________________________\n",
            "max_pooling2d (MaxPooling2D) (None, 112, 112, 16)      0         \n",
            "_________________________________________________________________\n",
            "dropout (Dropout)            (None, 112, 112, 16)      0         \n",
            "_________________________________________________________________\n",
            "conv2d_2 (Conv2D)            (None, 112, 112, 32)      4640      \n",
            "_________________________________________________________________\n",
            "batch_normalization_2 (Batch (None, 112, 112, 32)      128       \n",
            "_________________________________________________________________\n",
            "conv2d_3 (Conv2D)            (None, 112, 112, 32)      9248      \n",
            "_________________________________________________________________\n",
            "batch_normalization_3 (Batch (None, 112, 112, 32)      128       \n",
            "_________________________________________________________________\n",
            "max_pooling2d_1 (MaxPooling2 (None, 56, 56, 32)        0         \n",
            "_________________________________________________________________\n",
            "dropout_1 (Dropout)          (None, 56, 56, 32)        0         \n",
            "_________________________________________________________________\n",
            "conv2d_4 (Conv2D)            (None, 56, 56, 64)        18496     \n",
            "_________________________________________________________________\n",
            "batch_normalization_4 (Batch (None, 56, 56, 64)        256       \n",
            "_________________________________________________________________\n",
            "conv2d_5 (Conv2D)            (None, 56, 56, 64)        36928     \n",
            "_________________________________________________________________\n",
            "batch_normalization_5 (Batch (None, 56, 56, 64)        256       \n",
            "_________________________________________________________________\n",
            "max_pooling2d_2 (MaxPooling2 (None, 28, 28, 64)        0         \n",
            "_________________________________________________________________\n",
            "dropout_2 (Dropout)          (None, 28, 28, 64)        0         \n",
            "_________________________________________________________________\n",
            "conv2d_6 (Conv2D)            (None, 28, 28, 128)       73856     \n",
            "_________________________________________________________________\n",
            "batch_normalization_6 (Batch (None, 28, 28, 128)       512       \n",
            "_________________________________________________________________\n",
            "conv2d_7 (Conv2D)            (None, 28, 28, 128)       147584    \n",
            "_________________________________________________________________\n",
            "batch_normalization_7 (Batch (None, 28, 28, 128)       512       \n",
            "_________________________________________________________________\n",
            "max_pooling2d_3 (MaxPooling2 (None, 14, 14, 128)       0         \n",
            "_________________________________________________________________\n",
            "dropout_3 (Dropout)          (None, 14, 14, 128)       0         \n",
            "_________________________________________________________________\n",
            "conv2d_8 (Conv2D)            (None, 14, 14, 256)       295168    \n",
            "_________________________________________________________________\n",
            "batch_normalization_8 (Batch (None, 14, 14, 256)       1024      \n",
            "_________________________________________________________________\n",
            "conv2d_9 (Conv2D)            (None, 14, 14, 256)       590080    \n",
            "_________________________________________________________________\n",
            "batch_normalization_9 (Batch (None, 14, 14, 256)       1024      \n",
            "_________________________________________________________________\n",
            "max_pooling2d_4 (MaxPooling2 (None, 7, 7, 256)         0         \n",
            "_________________________________________________________________\n",
            "dropout_4 (Dropout)          (None, 7, 7, 256)         0         \n",
            "_________________________________________________________________\n",
            "flatten (Flatten)            (None, 12544)             0         \n",
            "_________________________________________________________________\n",
            "dense (Dense)                (None, 512)               6423040   \n",
            "_________________________________________________________________\n",
            "dropout_5 (Dropout)          (None, 512)               0         \n",
            "_________________________________________________________________\n",
            "dense_1 (Dense)              (None, 256)               131328    \n",
            "_________________________________________________________________\n",
            "dense_2 (Dense)              (None, 3)                 771       \n",
            "=================================================================\n",
            "Total params: 7,737,875\n",
            "Trainable params: 7,735,891\n",
            "Non-trainable params: 1,984\n",
            "_________________________________________________________________\n"
          ]
        }
      ],
      "source": [
        "#Proposed CNN model\n",
        "IMAGE_SIZE=(224,224,3)\n",
        "model = Sequential()\n",
        "\n",
        "model.add(Conv2D(16, kernel_size=(3, 3), activation='relu', input_shape=IMAGE_SIZE,padding='same'))\n",
        "model.add(BatchNormalization())\n",
        "model.add(Conv2D(16,kernel_size= (3, 3), activation='relu',padding='same'))\n",
        "model.add(BatchNormalization())\n",
        "model.add(MaxPooling2D(pool_size=(2,2), strides=(2, 2)))\n",
        "model.add(Dropout(rate=0.2))\n",
        "\n",
        "model.add(Conv2D(32, kernel_size=(3, 3), activation='relu',padding='same'))\n",
        "model.add(BatchNormalization())\n",
        "model.add(Conv2D(32,kernel_size= (3, 3), activation='relu',padding='same'))\n",
        "model.add(BatchNormalization())\n",
        "model.add(MaxPooling2D(pool_size=(2,2), strides=(2, 2)))\n",
        "model.add(Dropout(rate=0.2))\n",
        "\n",
        "model.add(Conv2D(64, kernel_size=(3, 3), activation='relu',padding='same'))\n",
        "model.add(BatchNormalization())\n",
        "model.add(Conv2D(64,kernel_size= (3, 3), activation='relu',padding='same'))\n",
        "model.add(BatchNormalization())\n",
        "model.add(MaxPooling2D(pool_size=(2,2), strides=(2, 2)))\n",
        "model.add(Dropout(rate=0.2))\n",
        "\n",
        "model.add(Conv2D(128, kernel_size=(3, 3), activation='relu',padding='same'))\n",
        "model.add(BatchNormalization())\n",
        "model.add(Conv2D(128,kernel_size= (3, 3), activation='relu',padding='same'))\n",
        "model.add(BatchNormalization())\n",
        "model.add(MaxPooling2D(pool_size=(2,2), strides=(2, 2)))\n",
        "model.add(Dropout(rate=0.2))\n",
        "\n",
        "model.add(Conv2D(256, kernel_size=(3, 3), activation='relu',padding='same'))\n",
        "model.add(BatchNormalization())\n",
        "model.add(Conv2D(256,kernel_size= (3, 3), activation='relu',padding='same'))\n",
        "model.add(BatchNormalization())\n",
        "model.add(MaxPooling2D(pool_size=(2,2), strides=(2, 2)))\n",
        "model.add(Dropout(rate=0.2))\n",
        "  \n",
        "model.add(Flatten())\n",
        "\n",
        "model.add(Dense(512, activation=\"relu\"))\n",
        "model.add(Dropout(0.2))\n",
        "model.add(Dense(256, activation=\"relu\"))\n",
        "model.add(Dense(2, activation='softmax'))\n",
        "model.summary()"
      ]
    },
    {
      "cell_type": "code",
      "execution_count": null,
      "metadata": {
        "id": "s0uvwM2Ctil3"
      },
      "outputs": [],
      "source": [
        "from keras import backend as K\n",
        "def precision_threshold(threshold = 0.5):\n",
        "    def precision(y_true, y_pred):\n",
        "        threshold_value = threshold\n",
        "        y_pred = K.cast(K.greater(K.clip(y_pred, 0, 1), threshold_value), K.floatx())\n",
        "        true_positives = K.round(K.sum(K.clip(y_true * y_pred, 0, 1)))\n",
        "        predicted_positives = K.sum(y_pred)\n",
        "        precision_ratio = true_positives / (predicted_positives + K.epsilon())\n",
        "        return precision_ratio\n",
        "    return precision\n",
        "def recall_threshold(threshold = 0.5):\n",
        "    def recall(y_true, y_pred):\n",
        "        threshold_value = threshold\n",
        "        y_pred = K.cast(K.greater(K.clip(y_pred, 0, 1), threshold_value), K.floatx())\n",
        "        true_positives = K.round(K.sum(K.clip(y_true * y_pred, 0, 1)))\n",
        "        possible_positives = K.sum(K.clip(y_true, 0, 1))\n",
        "        recall_ratio = true_positives / (possible_positives + K.epsilon())\n",
        "        return recall_ratio\n",
        "    return recall\n",
        "def fbeta_score_threshold(beta = 1, threshold = 0.5):\n",
        "    def fbeta_score(y_true, y_pred):\n",
        "        threshold_value = threshold\n",
        "        beta_value = beta\n",
        "        p = precision_threshold(threshold_value)(y_true, y_pred)\n",
        "        r = recall_threshold(threshold_value)(y_true, y_pred)\n",
        "        bb = beta_value ** 2\n",
        "        fbeta_score = (1 + bb) * (p * r) / (bb * p + r + K.epsilon())\n",
        "        return fbeta_score\n",
        "    return fbeta_score"
      ]
    },
    {
      "cell_type": "code",
      "execution_count": null,
      "metadata": {
        "id": "4FGTdPtmtil4",
        "outputId": "b5c7a31f-911a-49f7-fb43-73cb244f744d"
      },
      "outputs": [
        {
          "name": "stdout",
          "output_type": "stream",
          "text": [
            "Found 5144 images belonging to 3 classes.\n",
            "Found 1288 images belonging to 3 classes.\n",
            "Epoch 1/25\n",
            "322/322 [==============================] - 756s 2s/step - loss: 1.0231 - precision: 0.8015 - recall: 0.7921 - fbeta_score: 0.7995 - accuracy: 0.7967 - auc: 0.9179 - val_loss: 4.8281 - val_precision: 0.6914 - val_recall: 0.6914 - val_fbeta_score: 0.6914 - val_accuracy: 0.6894 - val_auc: 0.7935\n",
            "Epoch 2/25\n",
            "322/322 [==============================] - 715s 2s/step - loss: 0.4184 - precision: 0.8706 - recall: 0.8585 - fbeta_score: 0.8680 - accuracy: 0.8653 - auc: 0.9605 - val_loss: 1.4653 - val_precision: 0.5922 - val_recall: 0.5571 - val_fbeta_score: 0.5842 - val_accuracy: 0.5839 - val_auc: 0.7342\n",
            "Epoch 3/25\n",
            "322/322 [==============================] - 708s 2s/step - loss: 0.3194 - precision: 0.8934 - recall: 0.8837 - fbeta_score: 0.8913 - accuracy: 0.8892 - auc: 0.9720 - val_loss: 1.0380 - val_precision: 0.7021 - val_recall: 0.7014 - val_fbeta_score: 0.7020 - val_accuracy: 0.7011 - val_auc: 0.8721\n",
            "Epoch 4/25\n",
            "322/322 [==============================] - 681s 2s/step - loss: 0.2863 - precision: 0.9025 - recall: 0.8954 - fbeta_score: 0.9010 - accuracy: 0.8991 - auc: 0.9766 - val_loss: 0.2763 - val_precision: 0.9022 - val_recall: 0.8927 - val_fbeta_score: 0.9002 - val_accuracy: 0.8991 - val_auc: 0.9772\n",
            "Epoch 5/25\n",
            "322/322 [==============================] - 664s 2s/step - loss: 0.2901 - precision: 0.9025 - recall: 0.8932 - fbeta_score: 0.9005 - accuracy: 0.8997 - auc: 0.9766 - val_loss: 3.0869 - val_precision: 0.0833 - val_recall: 0.0833 - val_fbeta_score: 0.0833 - val_accuracy: 0.0839 - val_auc: 0.4008\n",
            "Epoch 6/25\n",
            "322/322 [==============================] - 6860s 21s/step - loss: 0.2675 - precision: 0.9144 - recall: 0.9078 - fbeta_score: 0.9130 - accuracy: 0.9110 - auc: 0.9790 - val_loss: 0.3655 - val_precision: 0.8559 - val_recall: 0.8449 - val_fbeta_score: 0.8535 - val_accuracy: 0.8494 - val_auc: 0.9637\n",
            "Epoch 7/25\n",
            "322/322 [==============================] - 665s 2s/step - loss: 0.2365 - precision: 0.9210 - recall: 0.9146 - fbeta_score: 0.9196 - accuracy: 0.9178 - auc: 0.9835 - val_loss: 0.2490 - val_precision: 0.9086 - val_recall: 0.9012 - val_fbeta_score: 0.9070 - val_accuracy: 0.9045 - val_auc: 0.9831\n",
            "Epoch 8/25\n",
            "322/322 [==============================] - 668s 2s/step - loss: 0.2062 - precision: 0.9329 - recall: 0.9260 - fbeta_score: 0.9315 - accuracy: 0.9290 - auc: 0.9870 - val_loss: 0.5084 - val_precision: 0.7604 - val_recall: 0.7539 - val_fbeta_score: 0.7590 - val_accuracy: 0.7593 - val_auc: 0.9313\n",
            "Epoch 9/25\n",
            "322/322 [==============================] - 664s 2s/step - loss: 0.2042 - precision: 0.9296 - recall: 0.9249 - fbeta_score: 0.9286 - accuracy: 0.9263 - auc: 0.9874 - val_loss: 0.2443 - val_precision: 0.9127 - val_recall: 0.9051 - val_fbeta_score: 0.9111 - val_accuracy: 0.9099 - val_auc: 0.9818\n",
            "Epoch 10/25\n",
            "322/322 [==============================] - 665s 2s/step - loss: 0.2113 - precision: 0.9303 - recall: 0.9251 - fbeta_score: 0.9292 - accuracy: 0.9275 - auc: 0.9861 - val_loss: 3.1456 - val_precision: 0.4127 - val_recall: 0.4090 - val_fbeta_score: 0.4119 - val_accuracy: 0.4200 - val_auc: 0.5925\n",
            "Epoch 11/25\n",
            "322/322 [==============================] - 664s 2s/step - loss: 0.2168 - precision: 0.9307 - recall: 0.9259 - fbeta_score: 0.9296 - accuracy: 0.9283 - auc: 0.9846 - val_loss: 0.5235 - val_precision: 0.8208 - val_recall: 0.8194 - val_fbeta_score: 0.8205 - val_accuracy: 0.8199 - val_auc: 0.9535\n",
            "Epoch 12/25\n",
            "322/322 [==============================] - 664s 2s/step - loss: 0.1824 - precision: 0.9392 - recall: 0.9338 - fbeta_score: 0.9381 - accuracy: 0.9358 - auc: 0.9895 - val_loss: 0.2122 - val_precision: 0.9327 - val_recall: 0.9298 - val_fbeta_score: 0.9321 - val_accuracy: 0.9317 - val_auc: 0.9854\n",
            "Epoch 13/25\n",
            "322/322 [==============================] - 664s 2s/step - loss: 0.1803 - precision: 0.9374 - recall: 0.9326 - fbeta_score: 0.9364 - accuracy: 0.9353 - auc: 0.9896 - val_loss: 0.2478 - val_precision: 0.9224 - val_recall: 0.9190 - val_fbeta_score: 0.9217 - val_accuracy: 0.9216 - val_auc: 0.9827\n",
            "Epoch 14/25\n",
            "322/322 [==============================] - 669s 2s/step - loss: 0.1692 - precision: 0.9423 - recall: 0.9383 - fbeta_score: 0.9415 - accuracy: 0.9395 - auc: 0.9909 - val_loss: 0.3018 - val_precision: 0.9245 - val_recall: 0.9213 - val_fbeta_score: 0.9239 - val_accuracy: 0.9216 - val_auc: 0.9759\n",
            "Epoch 15/25\n",
            "322/322 [==============================] - 663s 2s/step - loss: 0.1836 - precision: 0.9359 - recall: 0.9321 - fbeta_score: 0.9351 - accuracy: 0.9343 - auc: 0.9891 - val_loss: 0.9955 - val_precision: 0.7534 - val_recall: 0.7469 - val_fbeta_score: 0.7520 - val_accuracy: 0.7554 - val_auc: 0.8846\n",
            "Epoch 00015: early stopping\n",
            "training time: 273.53 minutes\n",
            "81/81 [==============================] - 32s 394ms/step - loss: 0.9955 - precision: 0.7534 - recall: 0.7469 - fbeta_score: 0.7520 - accuracy: 0.7554 - auc: 0.8846\n",
            "precision: 75.34%\n",
            "Found 5144 images belonging to 3 classes.\n",
            "Found 1288 images belonging to 3 classes.\n",
            "Epoch 1/25\n",
            "322/322 [==============================] - 666s 2s/step - loss: 0.2320 - precision: 0.9263 - recall: 0.9231 - fbeta_score: 0.9256 - accuracy: 0.9253 - auc: 0.9851 - val_loss: 0.1688 - val_precision: 0.9427 - val_recall: 0.9406 - val_fbeta_score: 0.9423 - val_accuracy: 0.9425 - val_auc: 0.9906\n",
            "Epoch 2/25\n",
            "322/322 [==============================] - 691s 2s/step - loss: 0.2001 - precision: 0.9359 - recall: 0.9317 - fbeta_score: 0.9350 - accuracy: 0.9345 - auc: 0.9867 - val_loss: 0.6148 - val_precision: 0.8059 - val_recall: 0.7978 - val_fbeta_score: 0.8041 - val_accuracy: 0.8059 - val_auc: 0.9309\n",
            "Epoch 3/25\n",
            "322/322 [==============================] - 682s 2s/step - loss: 0.2463 - precision: 0.9222 - recall: 0.9173 - fbeta_score: 0.9212 - accuracy: 0.9199 - auc: 0.9823 - val_loss: 0.2737 - val_precision: 0.9020 - val_recall: 0.9020 - val_fbeta_score: 0.9020 - val_accuracy: 0.9030 - val_auc: 0.9828\n",
            "Epoch 4/25\n",
            "322/322 [==============================] - 673s 2s/step - loss: 0.1845 - precision: 0.9420 - recall: 0.9391 - fbeta_score: 0.9414 - accuracy: 0.9407 - auc: 0.9891 - val_loss: 21.1308 - val_precision: 0.1386 - val_recall: 0.1381 - val_fbeta_score: 0.1385 - val_accuracy: 0.1398 - val_auc: 0.3570\n",
            "Epoch 00004: early stopping\n",
            "training time: 45.44 minutes\n",
            "81/81 [==============================] - 32s 394ms/step - loss: 21.1308 - precision: 0.1386 - recall: 0.1381 - fbeta_score: 0.1385 - accuracy: 0.1398 - auc: 0.3570\n",
            "precision: 13.86%\n",
            "Found 5144 images belonging to 3 classes.\n",
            "Found 1288 images belonging to 3 classes.\n",
            "Epoch 1/25\n",
            "322/322 [==============================] - 704s 2s/step - loss: 0.2034 - precision: 0.9390 - recall: 0.9352 - fbeta_score: 0.9382 - accuracy: 0.9372 - auc: 0.9875 - val_loss: 0.4581 - val_precision: 0.8924 - val_recall: 0.8912 - val_fbeta_score: 0.8921 - val_accuracy: 0.8936 - val_auc: 0.9715\n",
            "Epoch 2/25\n",
            "322/322 [==============================] - 699s 2s/step - loss: 0.1946 - precision: 0.9386 - recall: 0.9342 - fbeta_score: 0.9377 - accuracy: 0.9364 - auc: 0.9875 - val_loss: 0.1875 - val_precision: 0.9336 - val_recall: 0.9321 - val_fbeta_score: 0.9333 - val_accuracy: 0.9340 - val_auc: 0.9886\n",
            "Epoch 3/25\n",
            "322/322 [==============================] - 712s 2s/step - loss: 0.1754 - precision: 0.9420 - recall: 0.9394 - fbeta_score: 0.9415 - accuracy: 0.9409 - auc: 0.9896 - val_loss: 0.6902 - val_precision: 0.7936 - val_recall: 0.7901 - val_fbeta_score: 0.7928 - val_accuracy: 0.7966 - val_auc: 0.9211\n",
            "Epoch 4/25\n",
            "322/322 [==============================] - 684s 2s/step - loss: 0.1888 - precision: 0.9404 - recall: 0.9371 - fbeta_score: 0.9397 - accuracy: 0.9386 - auc: 0.9895 - val_loss: 0.1838 - val_precision: 0.9282 - val_recall: 0.9267 - val_fbeta_score: 0.9279 - val_accuracy: 0.9293 - val_auc: 0.9900\n",
            "Epoch 5/25\n",
            "322/322 [==============================] - 661s 2s/step - loss: 0.1538 - precision: 0.9457 - recall: 0.9437 - fbeta_score: 0.9453 - accuracy: 0.9450 - auc: 0.9915 - val_loss: 0.3391 - val_precision: 0.9053 - val_recall: 0.9043 - val_fbeta_score: 0.9051 - val_accuracy: 0.9053 - val_auc: 0.9756\n",
            "Epoch 6/25\n",
            "322/322 [==============================] - 672s 2s/step - loss: 0.1532 - precision: 0.9488 - recall: 0.9464 - fbeta_score: 0.9483 - accuracy: 0.9473 - auc: 0.9917 - val_loss: 0.2888 - val_precision: 0.8806 - val_recall: 0.8758 - val_fbeta_score: 0.8796 - val_accuracy: 0.8797 - val_auc: 0.9754\n",
            "Epoch 7/25\n",
            "322/322 [==============================] - 664s 2s/step - loss: 0.1508 - precision: 0.9508 - recall: 0.9488 - fbeta_score: 0.9504 - accuracy: 0.9495 - auc: 0.9927 - val_loss: 0.8554 - val_precision: 0.7596 - val_recall: 0.7546 - val_fbeta_score: 0.7585 - val_accuracy: 0.7632 - val_auc: 0.9031\n",
            "Epoch 00007: early stopping\n",
            "training time: 80.26 minutes\n",
            "81/81 [==============================] - 32s 391ms/step - loss: 0.8554 - precision: 0.7596 - recall: 0.7546 - fbeta_score: 0.7585 - accuracy: 0.7632 - auc: 0.9031\n",
            "precision: 75.96%\n",
            "Found 5144 images belonging to 3 classes.\n",
            "Found 1288 images belonging to 3 classes.\n",
            "Epoch 1/25\n",
            "322/322 [==============================] - 662s 2s/step - loss: 0.1900 - precision: 0.9468 - recall: 0.9435 - fbeta_score: 0.9461 - accuracy: 0.9452 - auc: 0.9898 - val_loss: 0.1901 - val_precision: 0.9336 - val_recall: 0.9329 - val_fbeta_score: 0.9335 - val_accuracy: 0.9325 - val_auc: 0.9897\n",
            "Epoch 2/25\n",
            "322/322 [==============================] - 691s 2s/step - loss: 0.1812 - precision: 0.9429 - recall: 0.9404 - fbeta_score: 0.9424 - accuracy: 0.9417 - auc: 0.9901 - val_loss: 0.1546 - val_precision: 0.9606 - val_recall: 0.9529 - val_fbeta_score: 0.9590 - val_accuracy: 0.9550 - val_auc: 0.9924\n",
            "Epoch 3/25\n",
            "322/322 [==============================] - 710s 2s/step - loss: 0.1676 - precision: 0.9510 - recall: 0.9488 - fbeta_score: 0.9505 - accuracy: 0.9491 - auc: 0.9910 - val_loss: 0.4590 - val_precision: 0.8383 - val_recall: 0.8295 - val_fbeta_score: 0.8365 - val_accuracy: 0.8385 - val_auc: 0.9544\n",
            "Epoch 4/25\n",
            "322/322 [==============================] - 716s 2s/step - loss: 0.1325 - precision: 0.9565 - recall: 0.9550 - fbeta_score: 0.9562 - accuracy: 0.9559 - auc: 0.9941 - val_loss: 0.1350 - val_precision: 0.9421 - val_recall: 0.9406 - val_fbeta_score: 0.9418 - val_accuracy: 0.9418 - val_auc: 0.9951\n",
            "Epoch 5/25\n",
            "322/322 [==============================] - 701s 2s/step - loss: 0.1601 - precision: 0.9526 - recall: 0.9507 - fbeta_score: 0.9522 - accuracy: 0.9522 - auc: 0.9921 - val_loss: 0.1883 - val_precision: 0.9379 - val_recall: 0.9352 - val_fbeta_score: 0.9373 - val_accuracy: 0.9356 - val_auc: 0.9897\n",
            "Epoch 6/25\n",
            "322/322 [==============================] - 669s 2s/step - loss: 0.1352 - precision: 0.9570 - recall: 0.9554 - fbeta_score: 0.9567 - accuracy: 0.9563 - auc: 0.9933 - val_loss: 0.1532 - val_precision: 0.9498 - val_recall: 0.9483 - val_fbeta_score: 0.9495 - val_accuracy: 0.9495 - val_auc: 0.9923\n",
            "Epoch 7/25\n",
            "322/322 [==============================] - 719s 2s/step - loss: 0.1467 - precision: 0.9531 - recall: 0.9507 - fbeta_score: 0.9526 - accuracy: 0.9516 - auc: 0.9928 - val_loss: 0.1922 - val_precision: 0.9210 - val_recall: 0.9182 - val_fbeta_score: 0.9204 - val_accuracy: 0.9200 - val_auc: 0.9877\n",
            "Epoch 00007: early stopping\n",
            "training time: 81.50 minutes\n",
            "81/81 [==============================] - 33s 411ms/step - loss: 0.1922 - precision: 0.9210 - recall: 0.9182 - fbeta_score: 0.9204 - accuracy: 0.9200 - auc: 0.9877\n",
            "precision: 92.10%\n",
            "Found 5144 images belonging to 3 classes.\n",
            "Found 1288 images belonging to 3 classes.\n",
            "Epoch 1/25\n",
            "322/322 [==============================] - 703s 2s/step - loss: 0.1617 - precision: 0.9487 - recall: 0.9480 - fbeta_score: 0.9486 - accuracy: 0.9483 - auc: 0.9918 - val_loss: 0.2077 - val_precision: 0.9049 - val_recall: 0.8981 - val_fbeta_score: 0.9035 - val_accuracy: 0.9006 - val_auc: 0.9872\n",
            "Epoch 2/25\n",
            "322/322 [==============================] - 702s 2s/step - loss: 0.1786 - precision: 0.9495 - recall: 0.9484 - fbeta_score: 0.9492 - accuracy: 0.9487 - auc: 0.9897 - val_loss: 0.1854 - val_precision: 0.9373 - val_recall: 0.9352 - val_fbeta_score: 0.9369 - val_accuracy: 0.9356 - val_auc: 0.9899\n",
            "Epoch 3/25\n",
            "322/322 [==============================] - 707s 2s/step - loss: 0.1547 - precision: 0.9502 - recall: 0.9482 - fbeta_score: 0.9498 - accuracy: 0.9493 - auc: 0.9926 - val_loss: 0.3189 - val_precision: 0.8789 - val_recall: 0.8781 - val_fbeta_score: 0.8787 - val_accuracy: 0.8804 - val_auc: 0.9740\n",
            "Epoch 4/25\n",
            "322/322 [==============================] - 709s 2s/step - loss: 0.1354 - precision: 0.9549 - recall: 0.9536 - fbeta_score: 0.9546 - accuracy: 0.9539 - auc: 0.9941 - val_loss: 0.1361 - val_precision: 0.9542 - val_recall: 0.9522 - val_fbeta_score: 0.9538 - val_accuracy: 0.9526 - val_auc: 0.9948\n",
            "Epoch 5/25\n",
            "322/322 [==============================] - 738s 2s/step - loss: 0.1262 - precision: 0.9591 - recall: 0.9575 - fbeta_score: 0.9588 - accuracy: 0.9584 - auc: 0.9944 - val_loss: 0.3572 - val_precision: 0.8908 - val_recall: 0.8881 - val_fbeta_score: 0.8903 - val_accuracy: 0.8913 - val_auc: 0.9723\n",
            "Epoch 6/25\n",
            "322/322 [==============================] - 829s 3s/step - loss: 0.1194 - precision: 0.9590 - recall: 0.9579 - fbeta_score: 0.9588 - accuracy: 0.9582 - auc: 0.9950 - val_loss: 0.2620 - val_precision: 0.9022 - val_recall: 0.8989 - val_fbeta_score: 0.9015 - val_accuracy: 0.9006 - val_auc: 0.9805\n",
            "Epoch 7/25\n",
            "322/322 [==============================] - 847s 3s/step - loss: 0.1483 - precision: 0.9523 - recall: 0.9509 - fbeta_score: 0.9520 - accuracy: 0.9518 - auc: 0.9924 - val_loss: 0.1469 - val_precision: 0.9506 - val_recall: 0.9498 - val_fbeta_score: 0.9505 - val_accuracy: 0.9511 - val_auc: 0.9918\n",
            "Epoch 00007: early stopping\n",
            "training time: 87.65 minutes\n",
            "81/81 [==============================] - 58s 716ms/step - loss: 0.1469 - precision: 0.9506 - recall: 0.9498 - fbeta_score: 0.9505 - accuracy: 0.9511 - auc: 0.9918\n",
            "precision: 95.06%\n",
            "70.47% (+/- 29.43%)\n"
          ]
        }
      ],
      "source": [
        "kfold = KFold(n_splits=5, shuffle=True, random_state=42)\n",
        "cvscores = []\n",
        "for train, test in kfold.split(train_image):\n",
        "    opt=Adam(learning_rate=0.001)\n",
        "    model.compile(optimizer=opt,loss='categorical_crossentropy',metrics=[precision_threshold(threshold = 0.5), \n",
        "                       recall_threshold(threshold = 0.5), \n",
        "                       fbeta_score_threshold(beta=0.5, threshold = 0.5),\n",
        "                      'accuracy','AUC',])\n",
        "    \n",
        "    train_generator = train_datagen.flow_from_directory(train_image,\n",
        "                                                 target_size = (224,224),\n",
        "                                                 batch_size = 16,\n",
        "                                                 class_mode = 'categorical',\n",
        "                                                 shuffle=True)\n",
        "\n",
        "    test_generator = test_datagen.flow_from_directory(test_image,\n",
        "                                            target_size = (224,224),\n",
        "                                            batch_size = 16,\n",
        "                                            class_mode = 'categorical',\n",
        "                                            shuffle = False)\n",
        "    earlystop = EarlyStopping(monitor='val_loss', min_delta=0, patience=3, verbose=1, mode='auto')          \n",
        "    start=time.time()\n",
        "    history = model.fit(train_generator,\n",
        "                              validation_data=test_generator,\n",
        "                              epochs=25,callbacks=[earlystop]) \n",
        "    print(\"training time: %.2f minutes\"%((time.time()-start)/60))\n",
        "    \n",
        "    scores = model.evaluate(test_generator)\n",
        "    print(\"%s: %.2f%%\" % (model.metrics_names[1], scores[1]*100))\n",
        "    cvscores.append(scores[1] * 100)\n",
        "print(\"%.2f%% (+/- %.2f%%)\" % (np.mean(cvscores), np.std(cvscores)))"
      ]
    },
    {
      "cell_type": "code",
      "execution_count": null,
      "metadata": {
        "id": "4v7axREatil5",
        "outputId": "c2589074-cde2-45a0-a513-80855f90d408"
      },
      "outputs": [
        {
          "name": "stdout",
          "output_type": "stream",
          "text": [
            "WARNING:tensorflow:From <ipython-input-9-31b01bb454ba>:2: Model.predict_generator (from tensorflow.python.keras.engine.training) is deprecated and will be removed in a future version.\n",
            "Instructions for updating:\n",
            "Please use Model.predict, which supports generators.\n"
          ]
        },
        {
          "data": {
            "text/plain": [
              "0.1225"
            ]
          },
          "execution_count": 9,
          "metadata": {},
          "output_type": "execute_result"
        }
      ],
      "source": [
        "test_generator.reset() #Necessary to force it to start from beginning\n",
        "Y_pred = model.predict_generator(test_generator)\n",
        "y_pred = np.argmax(Y_pred, axis=-1)\n",
        "sum(y_pred==test_generator.classes)/10000\n"
      ]
    },
    {
      "cell_type": "code",
      "execution_count": null,
      "metadata": {
        "id": "AN-2JVKHtil6",
        "outputId": "fb2f521c-1c42-4364-96f0-a173c1f7d244"
      },
      "outputs": [
        {
          "data": {
            "text/plain": [
              "array([[113,   0,   3],\n",
              "       [  1, 277,  39],\n",
              "       [  1,  19, 835]], dtype=int64)"
            ]
          },
          "execution_count": 10,
          "metadata": {},
          "output_type": "execute_result"
        }
      ],
      "source": [
        "from sklearn.metrics import confusion_matrix\n",
        "confusion_matrix(test_generator.classes,y_pred)"
      ]
    },
    {
      "cell_type": "code",
      "execution_count": null,
      "metadata": {
        "id": "G76DZEbvtil6",
        "outputId": "af99112a-dc95-47aa-99c2-9b84cf88e6b8"
      },
      "outputs": [
        {
          "data": {
            "image/png": "[encoded data removed]",
            "text/plain": [
              "<Figure size 432x288 with 1 Axes>"
            ]
          },
          "metadata": {
            "needs_background": "light"
          },
          "output_type": "display_data"
        }
      ],
      "source": [
        "from sklearn.metrics import roc_curve, auc\n",
        "\n",
        "fpr = {}\n",
        "tpr = {}\n",
        "thresh ={}\n",
        "\n",
        "n_class = 2\n",
        "\n",
        "for i in range(n_class):    \n",
        "    fpr[i], tpr[i], thresh[i] = roc_curve(test_generator.classes, Y_pred[:,i], pos_label=i)\n",
        "       \n",
        "plt.plot(fpr[0], tpr[0], linestyle='--',color='orange', label='Class 0 vs Rest')\n",
        "plt.plot(fpr[1], tpr[1], linestyle='--',color='red', label='Class 1 vs Rest')\n",
        "plt.title('Multiclass ROC curve')\n",
        "plt.xlabel('False Positive Rate')\n",
        "plt.ylabel('True Positive rate')\n",
        "plt.legend(loc='best')\n",
        "plt.savefig('Multiclass ROC',dpi=300);    \n"
      ]
    },
    {
      "cell_type": "code",
      "execution_count": null,
      "metadata": {
        "id": "M9N2_oxutil7"
      },
      "outputs": [],
      "source": [
        ""
      ]
    }
  ],
  "metadata": {
    "kernelspec": {
      "display_name": "Python 3",
      "language": "python",
      "name": "python3"
    },
    "language_info": {
      "codemirror_mode": {
        "name": "ipython",
        "version": 3
      },
      "file_extension": ".py",
      "mimetype": "text/x-python",
      "name": "python",
      "nbconvert_exporter": "python",
      "pygments_lexer": "ipython3",
      "version": "3.8.3"
    },
    "colab": {
      "name": "CNN (3).ipynb",
      "provenance": []
    }
  },
  "nbformat": 4,
  "nbformat_minor": 0
}
