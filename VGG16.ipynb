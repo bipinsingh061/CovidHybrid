{
  "cells": [
    {
      "cell_type": "code",
      "execution_count": null,
      "metadata": {
        "id": "eu6BN1oAtqA8"
      },
      "outputs": [],
      "source": [
        "import numpy as np\n",
        "import pandas as pd\n",
        "import os\n",
        "from random import shuffle\n",
        "import cv2\n",
        "import time\n",
        "import seaborn as sns\n",
        "import matplotlib.pyplot as plt\n",
        "import glob as gb\n",
        "%matplotlib inline\n"
      ]
    },
    {
      "cell_type": "code",
      "execution_count": null,
      "metadata": {
        "id": "l-0rXb4btqBB"
      },
      "outputs": [],
      "source": [
        "import keras\n",
        "import tensorflow as tf \n",
        "from tensorflow.keras.models import Sequential\n",
        "from tensorflow.keras.layers import BatchNormalization\n",
        "from tensorflow.keras.layers import Conv2D\n",
        "from tensorflow.keras.layers import MaxPooling2D,GlobalMaxPooling2D,AveragePooling2D\n",
        "from tensorflow.keras.layers import Activation\n",
        "from tensorflow.keras.layers import Flatten\n",
        "from tensorflow.keras.layers import Dropout\n",
        "from tensorflow.keras.layers import Dense,Input\n",
        "from tensorflow.keras.utils import to_categorical\n",
        "from tensorflow.keras.preprocessing.image import load_img,img_to_array,ImageDataGenerator\n",
        "from keras.optimizers import Adam\n",
        "from keras.models import Model\n",
        "from keras.applications.vgg16 import VGG16\n",
        "from keras.regularizers import l2\n",
        "from keras.losses import categorical_crossentropy\n",
        "from imutils import paths\n",
        "from sklearn.model_selection import train_test_split\n",
        "from sklearn.model_selection import KFold \n",
        "from tensorflow.keras.callbacks import EarlyStopping, ModelCheckpoint"
      ]
    },
    {
      "cell_type": "code",
      "execution_count": null,
      "metadata": {
        "id": "7YaoOm1mtqBC",
        "outputId": "954ac23f-7b38-44d1-cd0c-058efcbd4c09"
      },
      "outputs": [
        {
          "name": "stdout",
          "output_type": "stream",
          "text": [
            "dataset/train\n",
            "dataset/test\n"
          ]
        }
      ],
      "source": [
        "train_image = \"dataset/train\"\n",
        "test_image = \"dataset/test\"\n",
        "\n",
        "\n",
        "print(train_image)\n",
        "print(test_image)"
      ]
    },
    {
      "cell_type": "code",
      "execution_count": null,
      "metadata": {
        "id": "b_-Nx94PtqBD"
      },
      "outputs": [],
      "source": [
        "train_datagen = ImageDataGenerator(rescale = 1./255,\n",
        "                                   zoom_range = 0.2,\n",
        "                                   rotation_range=15,\n",
        "                                   horizontal_flip = True)\n",
        "\n",
        "test_datagen = ImageDataGenerator(rescale = 1./255)\n"
      ]
    },
    {
      "cell_type": "code",
      "execution_count": null,
      "metadata": {
        "id": "7D1LdinttqBE",
        "outputId": "72eab448-ea5a-44e6-e81c-29fe52f1c705"
      },
      "outputs": [
        {
          "name": "stdout",
          "output_type": "stream",
          "text": [
            "Model: \"functional_1\"\n",
            "_________________________________________________________________\n",
            "Layer (type)                 Output Shape              Param #   \n",
            "=================================================================\n",
            "input_1 (InputLayer)         [(None, 224, 224, 3)]     0         \n",
            "_________________________________________________________________\n",
            "block1_conv1 (Conv2D)        (None, 224, 224, 64)      1792      \n",
            "_________________________________________________________________\n",
            "block1_conv2 (Conv2D)        (None, 224, 224, 64)      36928     \n",
            "_________________________________________________________________\n",
            "block1_pool (MaxPooling2D)   (None, 112, 112, 64)      0         \n",
            "_________________________________________________________________\n",
            "block2_conv1 (Conv2D)        (None, 112, 112, 128)     73856     \n",
            "_________________________________________________________________\n",
            "block2_conv2 (Conv2D)        (None, 112, 112, 128)     147584    \n",
            "_________________________________________________________________\n",
            "block2_pool (MaxPooling2D)   (None, 56, 56, 128)       0         \n",
            "_________________________________________________________________\n",
            "block3_conv1 (Conv2D)        (None, 56, 56, 256)       295168    \n",
            "_________________________________________________________________\n",
            "block3_conv2 (Conv2D)        (None, 56, 56, 256)       590080    \n",
            "_________________________________________________________________\n",
            "block3_conv3 (Conv2D)        (None, 56, 56, 256)       590080    \n",
            "_________________________________________________________________\n",
            "block3_pool (MaxPooling2D)   (None, 28, 28, 256)       0         \n",
            "_________________________________________________________________\n",
            "block4_conv1 (Conv2D)        (None, 28, 28, 512)       1180160   \n",
            "_________________________________________________________________\n",
            "block4_conv2 (Conv2D)        (None, 28, 28, 512)       2359808   \n",
            "_________________________________________________________________\n",
            "block4_conv3 (Conv2D)        (None, 28, 28, 512)       2359808   \n",
            "_________________________________________________________________\n",
            "block4_pool (MaxPooling2D)   (None, 14, 14, 512)       0         \n",
            "_________________________________________________________________\n",
            "block5_conv1 (Conv2D)        (None, 14, 14, 512)       2359808   \n",
            "_________________________________________________________________\n",
            "block5_conv2 (Conv2D)        (None, 14, 14, 512)       2359808   \n",
            "_________________________________________________________________\n",
            "block5_conv3 (Conv2D)        (None, 14, 14, 512)       2359808   \n",
            "_________________________________________________________________\n",
            "block5_pool (MaxPooling2D)   (None, 7, 7, 512)         0         \n",
            "_________________________________________________________________\n",
            "average_pooling2d (AveragePo (None, 3, 3, 512)         0         \n",
            "_________________________________________________________________\n",
            "flatten (Flatten)            (None, 4608)              0         \n",
            "_________________________________________________________________\n",
            "dense (Dense)                (None, 128)               589952    \n",
            "_________________________________________________________________\n",
            "dropout (Dropout)            (None, 128)               0         \n",
            "_________________________________________________________________\n",
            "dense_1 (Dense)              (None, 3)                 387       \n",
            "=================================================================\n",
            "Total params: 15,305,027\n",
            "Trainable params: 590,339\n",
            "Non-trainable params: 14,714,688\n",
            "_________________________________________________________________\n"
          ]
        }
      ],
      "source": [
        "vgg16 = VGG16(input_shape=(224,224,3), weights='imagenet', include_top=False)\n",
        "\n",
        "for layer in vgg16.layers:\n",
        "  layer.trainable = False\n",
        "\n",
        "x = vgg16.output\n",
        "x = AveragePooling2D()(x)\n",
        "x = Flatten()(x)\n",
        "x = Dense(128, activation=\"relu\")(x)\n",
        "x = Dropout(0.2)(x)\n",
        "x = Dense(3, activation='softmax')(x)\n",
        "\n",
        "model = Model(inputs=vgg16.input, outputs=x)\n",
        "model.summary()"
      ]
    },
    {
      "cell_type": "code",
      "execution_count": null,
      "metadata": {
        "id": "DiEnVawvtqBH"
      },
      "outputs": [],
      "source": [
        "from keras import backend as K\n",
        "def precision_threshold(threshold = 0.5):\n",
        "    def precision(y_true, y_pred):\n",
        "        threshold_value = threshold\n",
        "        y_pred = K.cast(K.greater(K.clip(y_pred, 0, 1), threshold_value), K.floatx())\n",
        "        true_positives = K.round(K.sum(K.clip(y_true * y_pred, 0, 1)))\n",
        "        predicted_positives = K.sum(y_pred)\n",
        "        precision_ratio = true_positives / (predicted_positives + K.epsilon())\n",
        "        return precision_ratio\n",
        "    return precision\n",
        "def recall_threshold(threshold = 0.5):\n",
        "    def recall(y_true, y_pred):\n",
        "        threshold_value = threshold\n",
        "        y_pred = K.cast(K.greater(K.clip(y_pred, 0, 1), threshold_value), K.floatx())\n",
        "        true_positives = K.round(K.sum(K.clip(y_true * y_pred, 0, 1)))\n",
        "        possible_positives = K.sum(K.clip(y_true, 0, 1))\n",
        "        recall_ratio = true_positives / (possible_positives + K.epsilon())\n",
        "        return recall_ratio\n",
        "    return recall\n",
        "def fbeta_score_threshold(beta = 1, threshold = 0.5):\n",
        "    def fbeta_score(y_true, y_pred):\n",
        "        threshold_value = threshold\n",
        "        beta_value = beta\n",
        "        p = precision_threshold(threshold_value)(y_true, y_pred)\n",
        "        r = recall_threshold(threshold_value)(y_true, y_pred)\n",
        "        bb = beta_value ** 2\n",
        "        fbeta_score = (1 + bb) * (p * r) / (bb * p + r + K.epsilon())\n",
        "        return fbeta_score\n",
        "    return fbeta_score"
      ]
    },
    {
      "cell_type": "code",
      "execution_count": null,
      "metadata": {
        "id": "JEYetuMUtqBI",
        "outputId": "c2f58297-bcec-4c3a-9c29-b7bace87718b"
      },
      "outputs": [
        {
          "name": "stdout",
          "output_type": "stream",
          "text": [
            "Found 5144 images belonging to 3 classes.\n",
            "Found 1288 images belonging to 3 classes.\n",
            "Epoch 1/25\n",
            "322/322 [==============================] - 814s 3s/step - loss: 0.3116 - precision: 0.8907 - recall: 0.8764 - fbeta_score: 0.8874 - accuracy: 0.8841 - auc: 0.9725 - val_loss: 0.2586 - val_precision: 0.8956 - val_recall: 0.8935 - val_fbeta_score: 0.8951 - val_accuracy: 0.8936 - val_auc: 0.9803\n",
            "Epoch 2/25\n",
            "322/322 [==============================] - 779s 2s/step - loss: 0.2105 - precision: 0.9252 - recall: 0.9202 - fbeta_score: 0.9242 - accuracy: 0.9232 - auc: 0.9863 - val_loss: 0.1761 - val_precision: 0.9297 - val_recall: 0.9282 - val_fbeta_score: 0.9294 - val_accuracy: 0.9286 - val_auc: 0.9904\n",
            "Epoch 3/25\n",
            "322/322 [==============================] - 762s 2s/step - loss: 0.1761 - precision: 0.9377 - recall: 0.9350 - fbeta_score: 0.9371 - accuracy: 0.9370 - auc: 0.9899 - val_loss: 0.2485 - val_precision: 0.9082 - val_recall: 0.9082 - val_fbeta_score: 0.9082 - val_accuracy: 0.9076 - val_auc: 0.9816\n",
            "Epoch 4/25\n",
            "322/322 [==============================] - 754s 2s/step - loss: 0.1615 - precision: 0.9451 - recall: 0.9424 - fbeta_score: 0.9445 - accuracy: 0.9440 - auc: 0.9916 - val_loss: 0.2228 - val_precision: 0.9182 - val_recall: 0.9174 - val_fbeta_score: 0.9180 - val_accuracy: 0.9177 - val_auc: 0.9848\n",
            "Epoch 5/25\n",
            "322/322 [==============================] - 756s 2s/step - loss: 0.1781 - precision: 0.9305 - recall: 0.9288 - fbeta_score: 0.9301 - accuracy: 0.9290 - auc: 0.9903 - val_loss: 0.1996 - val_precision: 0.9197 - val_recall: 0.9190 - val_fbeta_score: 0.9195 - val_accuracy: 0.9193 - val_auc: 0.9886\n",
            "Epoch 00005: early stopping\n",
            "training time: 64.70 minutes\n",
            "81/81 [==============================] - 147s 2s/step - loss: 0.1996 - precision: 0.9197 - recall: 0.9190 - fbeta_score: 0.9195 - accuracy: 0.9193 - auc: 0.9886\n",
            "precision: 91.97%\n",
            "Found 5144 images belonging to 3 classes.\n",
            "Found 1288 images belonging to 3 classes.\n",
            "Epoch 1/25\n",
            "322/322 [==============================] - 753s 2s/step - loss: 0.1605 - precision: 0.9431 - recall: 0.9418 - fbeta_score: 0.9428 - accuracy: 0.9432 - auc: 0.9916 - val_loss: 0.2773 - val_precision: 0.9028 - val_recall: 0.9028 - val_fbeta_score: 0.9028 - val_accuracy: 0.9030 - val_auc: 0.9786\n",
            "Epoch 2/25\n",
            "322/322 [==============================] - 754s 2s/step - loss: 0.1501 - precision: 0.9467 - recall: 0.9453 - fbeta_score: 0.9464 - accuracy: 0.9460 - auc: 0.9928 - val_loss: 0.2129 - val_precision: 0.9144 - val_recall: 0.9144 - val_fbeta_score: 0.9144 - val_accuracy: 0.9138 - val_auc: 0.9868\n",
            "Epoch 3/25\n",
            "322/322 [==============================] - 750s 2s/step - loss: 0.1362 - precision: 0.9506 - recall: 0.9486 - fbeta_score: 0.9502 - accuracy: 0.9497 - auc: 0.9939 - val_loss: 0.2855 - val_precision: 0.9020 - val_recall: 0.9020 - val_fbeta_score: 0.9020 - val_accuracy: 0.9014 - val_auc: 0.9783\n",
            "Epoch 4/25\n",
            "322/322 [==============================] - 756s 2s/step - loss: 0.1345 - precision: 0.9501 - recall: 0.9497 - fbeta_score: 0.9500 - accuracy: 0.9498 - auc: 0.9942 - val_loss: 0.3196 - val_precision: 0.8943 - val_recall: 0.8943 - val_fbeta_score: 0.8943 - val_accuracy: 0.8944 - val_auc: 0.9742\n",
            "Epoch 5/25\n",
            "322/322 [==============================] - 21544s 67s/step - loss: 0.1416 - precision: 0.9482 - recall: 0.9478 - fbeta_score: 0.9481 - accuracy: 0.9479 - auc: 0.9933 - val_loss: 0.1806 - val_precision: 0.9313 - val_recall: 0.9313 - val_fbeta_score: 0.9313 - val_accuracy: 0.9309 - val_auc: 0.9901\n",
            "Epoch 6/25\n",
            "322/322 [==============================] - 740s 2s/step - loss: 0.1359 - precision: 0.9527 - recall: 0.9507 - fbeta_score: 0.9523 - accuracy: 0.9516 - auc: 0.9934 - val_loss: 0.1818 - val_precision: 0.9321 - val_recall: 0.9321 - val_fbeta_score: 0.9321 - val_accuracy: 0.9317 - val_auc: 0.9905\n",
            "Epoch 7/25\n",
            "322/322 [==============================] - 740s 2s/step - loss: 0.1303 - precision: 0.9570 - recall: 0.9556 - fbeta_score: 0.9567 - accuracy: 0.9565 - auc: 0.9940 - val_loss: 0.1914 - val_precision: 0.9275 - val_recall: 0.9275 - val_fbeta_score: 0.9275 - val_accuracy: 0.9270 - val_auc: 0.9893\n",
            "Epoch 8/25\n",
            "322/322 [==============================] - 925s 3s/step - loss: 0.1353 - precision: 0.9505 - recall: 0.9501 - fbeta_score: 0.9504 - accuracy: 0.9500 - auc: 0.9940 - val_loss: 0.1652 - val_precision: 0.9375 - val_recall: 0.9375 - val_fbeta_score: 0.9375 - val_accuracy: 0.9371 - val_auc: 0.9914\n",
            "Epoch 9/25\n",
            "322/322 [==============================] - 746s 2s/step - loss: 0.1372 - precision: 0.9484 - recall: 0.9472 - fbeta_score: 0.9481 - accuracy: 0.9481 - auc: 0.9939 - val_loss: 0.2518 - val_precision: 0.9167 - val_recall: 0.9167 - val_fbeta_score: 0.9167 - val_accuracy: 0.9161 - val_auc: 0.9809\n",
            "Epoch 10/25\n",
            "322/322 [==============================] - 741s 2s/step - loss: 0.1244 - precision: 0.9545 - recall: 0.9536 - fbeta_score: 0.9543 - accuracy: 0.9539 - auc: 0.9947 - val_loss: 0.3645 - val_precision: 0.8827 - val_recall: 0.8827 - val_fbeta_score: 0.8827 - val_accuracy: 0.8835 - val_auc: 0.9695\n",
            "Epoch 11/25\n",
            "322/322 [==============================] - 2951s 9s/step - loss: 0.1265 - precision: 0.9567 - recall: 0.9563 - fbeta_score: 0.9566 - accuracy: 0.9565 - auc: 0.9945 - val_loss: 0.1540 - val_precision: 0.9413 - val_recall: 0.9406 - val_fbeta_score: 0.9412 - val_accuracy: 0.9402 - val_auc: 0.9929\n",
            "Epoch 12/25\n",
            "322/322 [==============================] - 783s 2s/step - loss: 0.1223 - precision: 0.9561 - recall: 0.9557 - fbeta_score: 0.9560 - accuracy: 0.9561 - auc: 0.9946 - val_loss: 0.3866 - val_precision: 0.8912 - val_recall: 0.8912 - val_fbeta_score: 0.8912 - val_accuracy: 0.8913 - val_auc: 0.9662\n",
            "Epoch 13/25\n",
            "322/322 [==============================] - 781s 2s/step - loss: 0.1338 - precision: 0.9521 - recall: 0.9505 - fbeta_score: 0.9518 - accuracy: 0.9512 - auc: 0.9938 - val_loss: 0.2904 - val_precision: 0.9027 - val_recall: 0.9020 - val_fbeta_score: 0.9025 - val_accuracy: 0.9022 - val_auc: 0.9774\n",
            "Epoch 14/25\n",
            "322/322 [==============================] - 750s 2s/step - loss: 0.1202 - precision: 0.9567 - recall: 0.9559 - fbeta_score: 0.9565 - accuracy: 0.9563 - auc: 0.9949 - val_loss: 0.2443 - val_precision: 0.9082 - val_recall: 0.9082 - val_fbeta_score: 0.9082 - val_accuracy: 0.9076 - val_auc: 0.9828\n",
            "Epoch 00014: early stopping\n",
            "training time: 562.50 minutes\n",
            "81/81 [==============================] - 143s 2s/step - loss: 0.2443 - precision: 0.9082 - recall: 0.9082 - fbeta_score: 0.9082 - accuracy: 0.9076 - auc: 0.9828\n",
            "precision: 90.82%\n",
            "Found 5144 images belonging to 3 classes.\n",
            "Found 1288 images belonging to 3 classes.\n",
            "Epoch 1/25\n",
            "322/322 [==============================] - 739s 2s/step - loss: 0.1217 - precision: 0.9542 - recall: 0.9536 - fbeta_score: 0.9541 - accuracy: 0.9541 - auc: 0.9949 - val_loss: 0.2542 - val_precision: 0.9134 - val_recall: 0.9128 - val_fbeta_score: 0.9133 - val_accuracy: 0.9130 - val_auc: 0.9825\n",
            "Epoch 2/25\n",
            "322/322 [==============================] - 733s 2s/step - loss: 0.1213 - precision: 0.9576 - recall: 0.9565 - fbeta_score: 0.9574 - accuracy: 0.9568 - auc: 0.9949 - val_loss: 0.2219 - val_precision: 0.9267 - val_recall: 0.9267 - val_fbeta_score: 0.9267 - val_accuracy: 0.9262 - val_auc: 0.9855\n",
            "Epoch 3/25\n",
            "322/322 [==============================] - 3715s 12s/step - loss: 0.1126 - precision: 0.9587 - recall: 0.9583 - fbeta_score: 0.9586 - accuracy: 0.9584 - auc: 0.9950 - val_loss: 0.2192 - val_precision: 0.9182 - val_recall: 0.9182 - val_fbeta_score: 0.9182 - val_accuracy: 0.9177 - val_auc: 0.9862\n",
            "Epoch 4/25\n",
            "322/322 [==============================] - 752s 2s/step - loss: 0.1155 - precision: 0.9584 - recall: 0.9581 - fbeta_score: 0.9584 - accuracy: 0.9582 - auc: 0.9952 - val_loss: 0.2356 - val_precision: 0.9244 - val_recall: 0.9244 - val_fbeta_score: 0.9244 - val_accuracy: 0.9239 - val_auc: 0.9842\n",
            "Epoch 5/25\n",
            "322/322 [==============================] - 743s 2s/step - loss: 0.1040 - precision: 0.9615 - recall: 0.9604 - fbeta_score: 0.9613 - accuracy: 0.9607 - auc: 0.9964 - val_loss: 0.1682 - val_precision: 0.9429 - val_recall: 0.9429 - val_fbeta_score: 0.9429 - val_accuracy: 0.9425 - val_auc: 0.9913\n",
            "Epoch 6/25\n",
            "322/322 [==============================] - 785s 2s/step - loss: 0.0986 - precision: 0.9627 - recall: 0.9622 - fbeta_score: 0.9626 - accuracy: 0.9625 - auc: 0.9968 - val_loss: 0.2510 - val_precision: 0.9213 - val_recall: 0.9213 - val_fbeta_score: 0.9213 - val_accuracy: 0.9208 - val_auc: 0.9832\n",
            "Epoch 7/25\n",
            "322/322 [==============================] - 786s 2s/step - loss: 0.1197 - precision: 0.9563 - recall: 0.9559 - fbeta_score: 0.9562 - accuracy: 0.9561 - auc: 0.9950 - val_loss: 0.1840 - val_precision: 0.9367 - val_recall: 0.9367 - val_fbeta_score: 0.9367 - val_accuracy: 0.9363 - val_auc: 0.9890\n",
            "Epoch 8/25\n",
            "322/322 [==============================] - 746s 2s/step - loss: 0.0983 - precision: 0.9652 - recall: 0.9647 - fbeta_score: 0.9651 - accuracy: 0.9652 - auc: 0.9967 - val_loss: 0.2136 - val_precision: 0.9329 - val_recall: 0.9329 - val_fbeta_score: 0.9329 - val_accuracy: 0.9325 - val_auc: 0.9853\n",
            "Epoch 00008: early stopping\n",
            "training time: 150.33 minutes\n",
            "81/81 [==============================] - 145s 2s/step - loss: 0.2136 - precision: 0.9329 - recall: 0.9329 - fbeta_score: 0.9329 - accuracy: 0.9325 - auc: 0.9853\n",
            "precision: 93.29%\n",
            "Found 5144 images belonging to 3 classes.\n",
            "Found 1288 images belonging to 3 classes.\n",
            "Epoch 1/25\n",
            "322/322 [==============================] - 746s 2s/step - loss: 0.1090 - precision: 0.9610 - recall: 0.9608 - fbeta_score: 0.9609 - accuracy: 0.9611 - auc: 0.9955 - val_loss: 0.2478 - val_precision: 0.9306 - val_recall: 0.9306 - val_fbeta_score: 0.9306 - val_accuracy: 0.9301 - val_auc: 0.9819\n",
            "Epoch 2/25\n",
            "322/322 [==============================] - 746s 2s/step - loss: 0.1072 - precision: 0.9617 - recall: 0.9610 - fbeta_score: 0.9616 - accuracy: 0.9611 - auc: 0.9958 - val_loss: 0.1806 - val_precision: 0.9406 - val_recall: 0.9406 - val_fbeta_score: 0.9406 - val_accuracy: 0.9402 - val_auc: 0.9885\n",
            "Epoch 3/25\n",
            "322/322 [==============================] - 739s 2s/step - loss: 0.1032 - precision: 0.9625 - recall: 0.9616 - fbeta_score: 0.9623 - accuracy: 0.9623 - auc: 0.9963 - val_loss: 0.1759 - val_precision: 0.9390 - val_recall: 0.9390 - val_fbeta_score: 0.9390 - val_accuracy: 0.9387 - val_auc: 0.9888\n",
            "Epoch 4/25\n",
            "322/322 [==============================] - 745s 2s/step - loss: 0.1129 - precision: 0.9596 - recall: 0.9583 - fbeta_score: 0.9593 - accuracy: 0.9586 - auc: 0.9956 - val_loss: 0.1795 - val_precision: 0.9412 - val_recall: 0.9406 - val_fbeta_score: 0.9411 - val_accuracy: 0.9410 - val_auc: 0.9892\n",
            "Epoch 5/25\n",
            "322/322 [==============================] - 735s 2s/step - loss: 0.1050 - precision: 0.9641 - recall: 0.9631 - fbeta_score: 0.9639 - accuracy: 0.9635 - auc: 0.9959 - val_loss: 0.2038 - val_precision: 0.9298 - val_recall: 0.9298 - val_fbeta_score: 0.9298 - val_accuracy: 0.9293 - val_auc: 0.9877\n",
            "Epoch 6/25\n",
            "322/322 [==============================] - 736s 2s/step - loss: 0.0965 - precision: 0.9646 - recall: 0.9645 - fbeta_score: 0.9646 - accuracy: 0.9646 - auc: 0.9968 - val_loss: 0.2216 - val_precision: 0.9252 - val_recall: 0.9252 - val_fbeta_score: 0.9252 - val_accuracy: 0.9247 - val_auc: 0.9846\n",
            "Epoch 00006: early stopping\n",
            "training time: 74.36 minutes\n",
            "81/81 [==============================] - 143s 2s/step - loss: 0.2216 - precision: 0.9252 - recall: 0.9252 - fbeta_score: 0.9252 - accuracy: 0.9247 - auc: 0.9846\n",
            "precision: 92.52%\n",
            "Found 5144 images belonging to 3 classes.\n",
            "Found 1288 images belonging to 3 classes.\n",
            "Epoch 1/25\n",
            "322/322 [==============================] - 737s 2s/step - loss: 0.0986 - precision: 0.9662 - recall: 0.9655 - fbeta_score: 0.9661 - accuracy: 0.9660 - auc: 0.9966 - val_loss: 0.3136 - val_precision: 0.9174 - val_recall: 0.9174 - val_fbeta_score: 0.9174 - val_accuracy: 0.9177 - val_auc: 0.9774\n",
            "Epoch 2/25\n",
            "322/322 [==============================] - 3197s 10s/step - loss: 0.1080 - precision: 0.9602 - recall: 0.9596 - fbeta_score: 0.9601 - accuracy: 0.9598 - auc: 0.9958 - val_loss: 0.1822 - val_precision: 0.9429 - val_recall: 0.9429 - val_fbeta_score: 0.9429 - val_accuracy: 0.9425 - val_auc: 0.9906\n",
            "Epoch 3/25\n",
            "322/322 [==============================] - 773s 2s/step - loss: 0.1038 - precision: 0.9637 - recall: 0.9633 - fbeta_score: 0.9636 - accuracy: 0.9633 - auc: 0.9962 - val_loss: 0.2957 - val_precision: 0.9059 - val_recall: 0.9059 - val_fbeta_score: 0.9059 - val_accuracy: 0.9061 - val_auc: 0.9786\n",
            "Epoch 4/25\n",
            "322/322 [==============================] - 781s 2s/step - loss: 0.1068 - precision: 0.9589 - recall: 0.9585 - fbeta_score: 0.9588 - accuracy: 0.9588 - auc: 0.9962 - val_loss: 0.2506 - val_precision: 0.9259 - val_recall: 0.9259 - val_fbeta_score: 0.9259 - val_accuracy: 0.9262 - val_auc: 0.9833\n",
            "Epoch 5/25\n",
            "322/322 [==============================] - 759s 2s/step - loss: 0.0858 - precision: 0.9687 - recall: 0.9684 - fbeta_score: 0.9686 - accuracy: 0.9685 - auc: 0.9974 - val_loss: 0.2918 - val_precision: 0.9198 - val_recall: 0.9198 - val_fbeta_score: 0.9198 - val_accuracy: 0.9193 - val_auc: 0.9775\n",
            "Epoch 00005: early stopping\n",
            "training time: 104.34 minutes\n",
            "81/81 [==============================] - 151s 2s/step - loss: 0.2918 - precision: 0.9198 - recall: 0.9198 - fbeta_score: 0.9198 - accuracy: 0.9193 - auc: 0.9775\n",
            "precision: 91.98%\n",
            "92.11% (+/- 0.81%)\n"
          ]
        }
      ],
      "source": [
        "kfold = KFold(n_splits=5, shuffle=True, random_state=42)\n",
        "cvscores = []\n",
        "for train, test in kfold.split(train_image):\n",
        "    opt=Adam(learning_rate=0.001)\n",
        "    model.compile(optimizer=opt,loss='categorical_crossentropy',metrics=[precision_threshold(threshold = 0.5), \n",
        "                       recall_threshold(threshold = 0.5), \n",
        "                       fbeta_score_threshold(beta=0.5, threshold = 0.5),\n",
        "                      'accuracy','AUC',])\n",
        "    \n",
        "    train_generator = train_datagen.flow_from_directory(train_image,\n",
        "                                                 target_size = (224,224),\n",
        "                                                 batch_size = 16,\n",
        "                                                 class_mode = 'categorical',\n",
        "                                                 shuffle=True)\n",
        "\n",
        "    test_generator = test_datagen.flow_from_directory(test_image,\n",
        "                                            target_size = (224,224),\n",
        "                                            batch_size = 16,\n",
        "                                            class_mode = 'categorical',\n",
        "                                            shuffle = False)\n",
        "    earlystop = EarlyStopping(monitor='val_loss', min_delta=0, patience=3, verbose=1, mode='auto')          \n",
        "    start=time.time()\n",
        "    history = model.fit(train_generator,\n",
        "                              validation_data=test_generator,\n",
        "                              epochs=25,callbacks=[earlystop]) \n",
        "    print(\"training time: %.2f minutes\"%((time.time()-start)/60))\n",
        "    \n",
        "    scores = model.evaluate(test_generator)\n",
        "    print(\"%s: %.2f%%\" % (model.metrics_names[1], scores[1]*100))\n",
        "    cvscores.append(scores[1] * 100)\n",
        "print(\"%.2f%% (+/- %.2f%%)\" % (np.mean(cvscores), np.std(cvscores)))"
      ]
    },
    {
      "cell_type": "code",
      "execution_count": null,
      "metadata": {
        "id": "w8wCctVLtqBK",
        "outputId": "ed10704e-f599-4d88-815e-a825c18b19b0"
      },
      "outputs": [
        {
          "data": {
            "text/plain": [
              "92.11214065551758"
            ]
          },
          "execution_count": 9,
          "metadata": {},
          "output_type": "execute_result"
        }
      ],
      "source": [
        "final_Test_Accuracy=np.mean(cvscores)\n",
        "final_Test_Accuracy"
      ]
    },
    {
      "cell_type": "code",
      "execution_count": null,
      "metadata": {
        "id": "ebWnfN-otqBL",
        "outputId": "7bbed629-6d0a-4948-b6f0-16855f123112"
      },
      "outputs": [
        {
          "name": "stdout",
          "output_type": "stream",
          "text": [
            "WARNING:tensorflow:From <ipython-input-10-0dbcd217a715>:2: Model.predict_generator (from tensorflow.python.keras.engine.training) is deprecated and will be removed in a future version.\n",
            "Instructions for updating:\n",
            "Please use Model.predict, which supports generators.\n"
          ]
        },
        {
          "data": {
            "text/plain": [
              "0.1184"
            ]
          },
          "execution_count": 10,
          "metadata": {},
          "output_type": "execute_result"
        }
      ],
      "source": [
        "test_generator.reset() \n",
        "Y_pred = model.predict_generator(test_generator)\n",
        "y_pred = np.argmax(Y_pred, axis=-1)\n",
        "sum(y_pred==test_generator.classes)/10000\n"
      ]
    },
    {
      "cell_type": "code",
      "execution_count": null,
      "metadata": {
        "id": "d_lUW6zPtqBM",
        "outputId": "7a127d6d-6244-4246-f5e2-4d7b675f1d96"
      },
      "outputs": [
        {
          "data": {
            "text/plain": [
              "array([[102,  10,   4],\n",
              "       [  0, 302,  15],\n",
              "       [  0,  75, 780]], dtype=int64)"
            ]
          },
          "execution_count": 11,
          "metadata": {},
          "output_type": "execute_result"
        }
      ],
      "source": [
        "from sklearn.metrics import confusion_matrix\n",
        "confusion_matrix(test_generator.classes,y_pred)"
      ]
    },
    {
      "cell_type": "code",
      "execution_count": null,
      "metadata": {
        "id": "YSpU2DjFtqBM",
        "outputId": "87803ae7-7df5-4d0a-8054-753256e16125"
      },
      "outputs": [
        {
          "data": {
            "image/png": "[encoded data removed]",
            "text/plain": [
              "<Figure size 432x288 with 1 Axes>"
            ]
          },
          "metadata": {
            "needs_background": "light"
          },
          "output_type": "display_data"
        }
      ],
      "source": [
        "from sklearn.metrics import roc_curve, auc\n",
        "\n",
        "fpr = {}\n",
        "tpr = {}\n",
        "thresh ={}\n",
        "\n",
        "n_class = 3\n",
        "\n",
        "for i in range(n_class):    \n",
        "    fpr[i], tpr[i], thresh[i] = roc_curve(test_generator.classes, Y_pred[:,i], pos_label=i)\n",
        "       \n",
        "plt.plot(fpr[0], tpr[0], linestyle='--',color='orange', label='Class 0 vs Rest')\n",
        "plt.plot(fpr[1], tpr[1], linestyle='--',color='red', label='Class 1 vs Rest')\n",
        "plt.plot(fpr[2], tpr[2], linestyle='--',color='blue', label='Class 2 vs Rest')\n",
        "plt.title('Multiclass ROC curve')\n",
        "plt.xlabel('False Positive Rate')\n",
        "plt.ylabel('True Positive rate')\n",
        "plt.legend(loc='best')\n",
        "plt.savefig('Multiclass ROC',dpi=300);    \n"
      ]
    },
    {
      "cell_type": "code",
      "execution_count": null,
      "metadata": {
        "id": "V1c_EMOktqBN"
      },
      "outputs": [],
      "source": [
        ""
      ]
    }
  ],
  "metadata": {
    "kernelspec": {
      "display_name": "Python 3",
      "language": "python",
      "name": "python3"
    },
    "language_info": {
      "codemirror_mode": {
        "name": "ipython",
        "version": 3
      },
      "file_extension": ".py",
      "mimetype": "text/x-python",
      "name": "python",
      "nbconvert_exporter": "python",
      "pygments_lexer": "ipython3",
      "version": "3.8.3"
    },
    "colab": {
      "name": "VGG16 (4).ipynb",
      "provenance": []
    }
  },
  "nbformat": 4,
  "nbformat_minor": 0
}